{
  "nbformat": 4,
  "nbformat_minor": 0,
  "metadata": {
    "colab": {
      "name": "GROUP 5 - ML - TASK 1",
      "provenance": []
    },
    "kernelspec": {
      "name": "python3",
      "display_name": "Python 3"
    },
    "language_info": {
      "name": "python"
    }
  },
  "cells": [
    {
      "cell_type": "code",
      "metadata": {
        "id": "7seZl8dQW8ZW",
        "colab": {
          "base_uri": "https://localhost:8080/"
        },
        "outputId": "b613a5be-d07d-40c2-cc20-9b2453212962"
      },
      "source": [
        "!pip install category_encoders"
      ],
      "execution_count": 56,
      "outputs": [
        {
          "output_type": "stream",
          "text": [
            "Requirement already satisfied: category_encoders in /usr/local/lib/python3.7/dist-packages (2.2.2)\n",
            "Requirement already satisfied: scipy>=1.0.0 in /usr/local/lib/python3.7/dist-packages (from category_encoders) (1.4.1)\n",
            "Requirement already satisfied: scikit-learn>=0.20.0 in /usr/local/lib/python3.7/dist-packages (from category_encoders) (0.22.2.post1)\n",
            "Requirement already satisfied: statsmodels>=0.9.0 in /usr/local/lib/python3.7/dist-packages (from category_encoders) (0.10.2)\n",
            "Requirement already satisfied: numpy>=1.14.0 in /usr/local/lib/python3.7/dist-packages (from category_encoders) (1.19.5)\n",
            "Requirement already satisfied: patsy>=0.5.1 in /usr/local/lib/python3.7/dist-packages (from category_encoders) (0.5.1)\n",
            "Requirement already satisfied: pandas>=0.21.1 in /usr/local/lib/python3.7/dist-packages (from category_encoders) (1.1.5)\n",
            "Requirement already satisfied: pytz>=2017.2 in /usr/local/lib/python3.7/dist-packages (from pandas>=0.21.1->category_encoders) (2018.9)\n",
            "Requirement already satisfied: python-dateutil>=2.7.3 in /usr/local/lib/python3.7/dist-packages (from pandas>=0.21.1->category_encoders) (2.8.1)\n",
            "Requirement already satisfied: six in /usr/local/lib/python3.7/dist-packages (from patsy>=0.5.1->category_encoders) (1.15.0)\n",
            "Requirement already satisfied: joblib>=0.11 in /usr/local/lib/python3.7/dist-packages (from scikit-learn>=0.20.0->category_encoders) (1.0.1)\n"
          ],
          "name": "stdout"
        }
      ]
    },
    {
      "cell_type": "code",
      "metadata": {
        "id": "m0TMwgc0W8Mg",
        "colab": {
          "base_uri": "https://localhost:8080/"
        },
        "outputId": "45f1805e-3a5c-40fc-9012-5100f9af4463"
      },
      "source": [
        "!pip install seaborn"
      ],
      "execution_count": 57,
      "outputs": [
        {
          "output_type": "stream",
          "text": [
            "Requirement already satisfied: seaborn in /usr/local/lib/python3.7/dist-packages (0.11.1)\n",
            "Requirement already satisfied: matplotlib>=2.2 in /usr/local/lib/python3.7/dist-packages (from seaborn) (3.2.2)\n",
            "Requirement already satisfied: numpy>=1.15 in /usr/local/lib/python3.7/dist-packages (from seaborn) (1.19.5)\n",
            "Requirement already satisfied: pandas>=0.23 in /usr/local/lib/python3.7/dist-packages (from seaborn) (1.1.5)\n",
            "Requirement already satisfied: scipy>=1.0 in /usr/local/lib/python3.7/dist-packages (from seaborn) (1.4.1)\n",
            "Requirement already satisfied: pyparsing!=2.0.4,!=2.1.2,!=2.1.6,>=2.0.1 in /usr/local/lib/python3.7/dist-packages (from matplotlib>=2.2->seaborn) (2.4.7)\n",
            "Requirement already satisfied: python-dateutil>=2.1 in /usr/local/lib/python3.7/dist-packages (from matplotlib>=2.2->seaborn) (2.8.1)\n",
            "Requirement already satisfied: cycler>=0.10 in /usr/local/lib/python3.7/dist-packages (from matplotlib>=2.2->seaborn) (0.10.0)\n",
            "Requirement already satisfied: kiwisolver>=1.0.1 in /usr/local/lib/python3.7/dist-packages (from matplotlib>=2.2->seaborn) (1.3.1)\n",
            "Requirement already satisfied: six in /usr/local/lib/python3.7/dist-packages (from cycler>=0.10->matplotlib>=2.2->seaborn) (1.15.0)\n",
            "Requirement already satisfied: pytz>=2017.2 in /usr/local/lib/python3.7/dist-packages (from pandas>=0.23->seaborn) (2018.9)\n"
          ],
          "name": "stdout"
        }
      ]
    },
    {
      "cell_type": "code",
      "metadata": {
        "id": "1dZwI3d1NS60"
      },
      "source": [
        "import pandas as pd\n",
        "import numpy as np\n",
        "import tensorflow as tf\n",
        "import matplotlib\n",
        "import matplotlib.pyplot as plt\n",
        "import seaborn as sns\n",
        "from sklearn.preprocessing import StandardScaler, LabelEncoder, PowerTransformer\n",
        "from sklearn.model_selection import train_test_split\n",
        "from sklearn.decomposition import PCA\n",
        "from sklearn.linear_model import LassoCV, LogisticRegression\n",
        "from sklearn.feature_selection import SelectFromModel\n",
        "from sklearn.datasets import make_classification,make_moons\n",
        "from category_encoders import BackwardDifferenceEncoder\n",
        "from matplotlib.colors import ListedColormap\n",
        "from keras.optimizers import Adam\n",
        "from tensorflow import keras\n",
        "from tensorflow.keras import layers\n",
        "from keras.models import Sequential\n",
        "from keras.layers import Dense\n",
        "from sklearn.metrics import classification_report,confusion_matrix"
      ],
      "execution_count": 58,
      "outputs": []
    },
    {
      "cell_type": "markdown",
      "metadata": {
        "id": "cY_iKCxqQPdc"
      },
      "source": [
        "GETTING THE DATASET AND PREPARING IT"
      ]
    },
    {
      "cell_type": "code",
      "metadata": {
        "id": "5c8Zj7M5QHbL"
      },
      "source": [
        "data=pd.read_csv('/content/Housing Pricing.csv')"
      ],
      "execution_count": 59,
      "outputs": []
    },
    {
      "cell_type": "code",
      "metadata": {
        "colab": {
          "base_uri": "https://localhost:8080/",
          "height": 130
        },
        "id": "r8d8WiRrQad2",
        "outputId": "6adadc95-0438-480d-b429-28123a463d85"
      },
      "source": [
        "data.head(2)"
      ],
      "execution_count": 60,
      "outputs": [
        {
          "output_type": "execute_result",
          "data": {
            "text/html": [
              "<div>\n",
              "<style scoped>\n",
              "    .dataframe tbody tr th:only-of-type {\n",
              "        vertical-align: middle;\n",
              "    }\n",
              "\n",
              "    .dataframe tbody tr th {\n",
              "        vertical-align: top;\n",
              "    }\n",
              "\n",
              "    .dataframe thead th {\n",
              "        text-align: right;\n",
              "    }\n",
              "</style>\n",
              "<table border=\"1\" class=\"dataframe\">\n",
              "  <thead>\n",
              "    <tr style=\"text-align: right;\">\n",
              "      <th></th>\n",
              "      <th>Id</th>\n",
              "      <th>MSSubClass</th>\n",
              "      <th>MSZoning</th>\n",
              "      <th>LotFrontage</th>\n",
              "      <th>LotArea</th>\n",
              "      <th>Street</th>\n",
              "      <th>LotShape</th>\n",
              "      <th>LandContour</th>\n",
              "      <th>Utilities</th>\n",
              "      <th>LotConfig</th>\n",
              "      <th>LandSlope</th>\n",
              "      <th>Neighborhood</th>\n",
              "      <th>Condition1</th>\n",
              "      <th>Condition2</th>\n",
              "      <th>BldgType</th>\n",
              "      <th>HouseStyle</th>\n",
              "      <th>OverallQual</th>\n",
              "      <th>OverallCond</th>\n",
              "      <th>YearBuilt</th>\n",
              "      <th>YearRemodAdd</th>\n",
              "      <th>RoofStyle</th>\n",
              "      <th>RoofMatl</th>\n",
              "      <th>Exterior1st</th>\n",
              "      <th>Exterior2nd</th>\n",
              "      <th>MasVnrType</th>\n",
              "      <th>MasVnrArea</th>\n",
              "      <th>ExterQual</th>\n",
              "      <th>ExterCond</th>\n",
              "      <th>Foundation</th>\n",
              "      <th>BsmtQual</th>\n",
              "      <th>BsmtCond</th>\n",
              "      <th>BsmtExposure</th>\n",
              "      <th>BsmtFinType1</th>\n",
              "      <th>BsmtFinSF1</th>\n",
              "      <th>BsmtFinType2</th>\n",
              "      <th>BsmtFinSF2</th>\n",
              "      <th>BsmtUnfSF</th>\n",
              "      <th>TotalBsmtSF</th>\n",
              "      <th>Heating</th>\n",
              "      <th>HeatingQC</th>\n",
              "      <th>CentralAir</th>\n",
              "      <th>Electrical</th>\n",
              "      <th>1stFlrSF</th>\n",
              "      <th>2ndFlrSF</th>\n",
              "      <th>LowQualFinSF</th>\n",
              "      <th>GrLivArea</th>\n",
              "      <th>BsmtFullBath</th>\n",
              "      <th>BsmtHalfBath</th>\n",
              "      <th>FullBath</th>\n",
              "      <th>HalfBath</th>\n",
              "      <th>BedroomAbvGr</th>\n",
              "      <th>KitchenAbvGr</th>\n",
              "      <th>KitchenQual</th>\n",
              "      <th>TotRmsAbvGrd</th>\n",
              "      <th>Functional</th>\n",
              "      <th>Fireplaces</th>\n",
              "      <th>FireplaceQu</th>\n",
              "      <th>GarageType</th>\n",
              "      <th>GarageYrBlt</th>\n",
              "      <th>GarageFinish</th>\n",
              "      <th>GarageCars</th>\n",
              "      <th>GarageArea</th>\n",
              "      <th>GarageQual</th>\n",
              "      <th>GarageCond</th>\n",
              "      <th>PavedDrive</th>\n",
              "      <th>WoodDeckSF</th>\n",
              "      <th>OpenPorchSF</th>\n",
              "      <th>EnclosedPorch</th>\n",
              "      <th>3SsnPorch</th>\n",
              "      <th>ScreenPorch</th>\n",
              "      <th>PoolArea</th>\n",
              "      <th>MiscVal</th>\n",
              "      <th>MoSold</th>\n",
              "      <th>YrSold</th>\n",
              "      <th>SaleType</th>\n",
              "      <th>SaleCondition</th>\n",
              "      <th>SalePrice</th>\n",
              "    </tr>\n",
              "  </thead>\n",
              "  <tbody>\n",
              "    <tr>\n",
              "      <th>0</th>\n",
              "      <td>1</td>\n",
              "      <td>60</td>\n",
              "      <td>RL</td>\n",
              "      <td>65.0</td>\n",
              "      <td>8450</td>\n",
              "      <td>Pave</td>\n",
              "      <td>Reg</td>\n",
              "      <td>Lvl</td>\n",
              "      <td>AllPub</td>\n",
              "      <td>Inside</td>\n",
              "      <td>Gtl</td>\n",
              "      <td>CollgCr</td>\n",
              "      <td>Norm</td>\n",
              "      <td>Norm</td>\n",
              "      <td>1Fam</td>\n",
              "      <td>2Story</td>\n",
              "      <td>7</td>\n",
              "      <td>5</td>\n",
              "      <td>2003</td>\n",
              "      <td>2003</td>\n",
              "      <td>Gable</td>\n",
              "      <td>CompShg</td>\n",
              "      <td>VinylSd</td>\n",
              "      <td>VinylSd</td>\n",
              "      <td>BrkFace</td>\n",
              "      <td>196.0</td>\n",
              "      <td>Gd</td>\n",
              "      <td>TA</td>\n",
              "      <td>PConc</td>\n",
              "      <td>Gd</td>\n",
              "      <td>TA</td>\n",
              "      <td>No</td>\n",
              "      <td>GLQ</td>\n",
              "      <td>706</td>\n",
              "      <td>Unf</td>\n",
              "      <td>0</td>\n",
              "      <td>150</td>\n",
              "      <td>856</td>\n",
              "      <td>GasA</td>\n",
              "      <td>Ex</td>\n",
              "      <td>Y</td>\n",
              "      <td>SBrkr</td>\n",
              "      <td>856</td>\n",
              "      <td>854</td>\n",
              "      <td>0</td>\n",
              "      <td>1710</td>\n",
              "      <td>1</td>\n",
              "      <td>0</td>\n",
              "      <td>2</td>\n",
              "      <td>1</td>\n",
              "      <td>3</td>\n",
              "      <td>1</td>\n",
              "      <td>Gd</td>\n",
              "      <td>8</td>\n",
              "      <td>Typ</td>\n",
              "      <td>0</td>\n",
              "      <td>NaN</td>\n",
              "      <td>Attchd</td>\n",
              "      <td>2003.0</td>\n",
              "      <td>RFn</td>\n",
              "      <td>2</td>\n",
              "      <td>548</td>\n",
              "      <td>TA</td>\n",
              "      <td>TA</td>\n",
              "      <td>Y</td>\n",
              "      <td>0</td>\n",
              "      <td>61</td>\n",
              "      <td>0</td>\n",
              "      <td>0</td>\n",
              "      <td>0</td>\n",
              "      <td>0</td>\n",
              "      <td>0</td>\n",
              "      <td>2</td>\n",
              "      <td>2008</td>\n",
              "      <td>WD</td>\n",
              "      <td>Normal</td>\n",
              "      <td>208500</td>\n",
              "    </tr>\n",
              "    <tr>\n",
              "      <th>1</th>\n",
              "      <td>2</td>\n",
              "      <td>20</td>\n",
              "      <td>RL</td>\n",
              "      <td>80.0</td>\n",
              "      <td>9600</td>\n",
              "      <td>Pave</td>\n",
              "      <td>Reg</td>\n",
              "      <td>Lvl</td>\n",
              "      <td>AllPub</td>\n",
              "      <td>FR2</td>\n",
              "      <td>Gtl</td>\n",
              "      <td>Veenker</td>\n",
              "      <td>Feedr</td>\n",
              "      <td>Norm</td>\n",
              "      <td>1Fam</td>\n",
              "      <td>1Story</td>\n",
              "      <td>6</td>\n",
              "      <td>8</td>\n",
              "      <td>1976</td>\n",
              "      <td>1976</td>\n",
              "      <td>Gable</td>\n",
              "      <td>CompShg</td>\n",
              "      <td>MetalSd</td>\n",
              "      <td>MetalSd</td>\n",
              "      <td>None</td>\n",
              "      <td>0.0</td>\n",
              "      <td>TA</td>\n",
              "      <td>TA</td>\n",
              "      <td>CBlock</td>\n",
              "      <td>Gd</td>\n",
              "      <td>TA</td>\n",
              "      <td>Gd</td>\n",
              "      <td>ALQ</td>\n",
              "      <td>978</td>\n",
              "      <td>Unf</td>\n",
              "      <td>0</td>\n",
              "      <td>284</td>\n",
              "      <td>1262</td>\n",
              "      <td>GasA</td>\n",
              "      <td>Ex</td>\n",
              "      <td>Y</td>\n",
              "      <td>SBrkr</td>\n",
              "      <td>1262</td>\n",
              "      <td>0</td>\n",
              "      <td>0</td>\n",
              "      <td>1262</td>\n",
              "      <td>0</td>\n",
              "      <td>1</td>\n",
              "      <td>2</td>\n",
              "      <td>0</td>\n",
              "      <td>3</td>\n",
              "      <td>1</td>\n",
              "      <td>TA</td>\n",
              "      <td>6</td>\n",
              "      <td>Typ</td>\n",
              "      <td>1</td>\n",
              "      <td>TA</td>\n",
              "      <td>Attchd</td>\n",
              "      <td>1976.0</td>\n",
              "      <td>RFn</td>\n",
              "      <td>2</td>\n",
              "      <td>460</td>\n",
              "      <td>TA</td>\n",
              "      <td>TA</td>\n",
              "      <td>Y</td>\n",
              "      <td>298</td>\n",
              "      <td>0</td>\n",
              "      <td>0</td>\n",
              "      <td>0</td>\n",
              "      <td>0</td>\n",
              "      <td>0</td>\n",
              "      <td>0</td>\n",
              "      <td>5</td>\n",
              "      <td>2007</td>\n",
              "      <td>WD</td>\n",
              "      <td>Normal</td>\n",
              "      <td>181500</td>\n",
              "    </tr>\n",
              "  </tbody>\n",
              "</table>\n",
              "</div>"
            ],
            "text/plain": [
              "   Id  MSSubClass MSZoning  ...  SaleType  SaleCondition SalePrice\n",
              "0   1          60       RL  ...        WD         Normal    208500\n",
              "1   2          20       RL  ...        WD         Normal    181500\n",
              "\n",
              "[2 rows x 77 columns]"
            ]
          },
          "metadata": {
            "tags": []
          },
          "execution_count": 60
        }
      ]
    },
    {
      "cell_type": "code",
      "metadata": {
        "colab": {
          "base_uri": "https://localhost:8080/"
        },
        "id": "6WECV4cZQajF",
        "outputId": "88709325-ef08-4f26-dd67-dd4040ced8d5"
      },
      "source": [
        "data.shape"
      ],
      "execution_count": 61,
      "outputs": [
        {
          "output_type": "execute_result",
          "data": {
            "text/plain": [
              "(1460, 77)"
            ]
          },
          "metadata": {
            "tags": []
          },
          "execution_count": 61
        }
      ]
    },
    {
      "cell_type": "code",
      "metadata": {
        "id": "ZHgZDLUwQi4O"
      },
      "source": [
        "data.drop('Id',inplace=True,axis=1)"
      ],
      "execution_count": 62,
      "outputs": []
    },
    {
      "cell_type": "code",
      "metadata": {
        "colab": {
          "base_uri": "https://localhost:8080/",
          "height": 100
        },
        "id": "99zn17p8Qujh",
        "outputId": "54902923-3eac-4c23-9bc1-08cf797fe1d3"
      },
      "source": [
        "data.head(1)"
      ],
      "execution_count": 63,
      "outputs": [
        {
          "output_type": "execute_result",
          "data": {
            "text/html": [
              "<div>\n",
              "<style scoped>\n",
              "    .dataframe tbody tr th:only-of-type {\n",
              "        vertical-align: middle;\n",
              "    }\n",
              "\n",
              "    .dataframe tbody tr th {\n",
              "        vertical-align: top;\n",
              "    }\n",
              "\n",
              "    .dataframe thead th {\n",
              "        text-align: right;\n",
              "    }\n",
              "</style>\n",
              "<table border=\"1\" class=\"dataframe\">\n",
              "  <thead>\n",
              "    <tr style=\"text-align: right;\">\n",
              "      <th></th>\n",
              "      <th>MSSubClass</th>\n",
              "      <th>MSZoning</th>\n",
              "      <th>LotFrontage</th>\n",
              "      <th>LotArea</th>\n",
              "      <th>Street</th>\n",
              "      <th>LotShape</th>\n",
              "      <th>LandContour</th>\n",
              "      <th>Utilities</th>\n",
              "      <th>LotConfig</th>\n",
              "      <th>LandSlope</th>\n",
              "      <th>Neighborhood</th>\n",
              "      <th>Condition1</th>\n",
              "      <th>Condition2</th>\n",
              "      <th>BldgType</th>\n",
              "      <th>HouseStyle</th>\n",
              "      <th>OverallQual</th>\n",
              "      <th>OverallCond</th>\n",
              "      <th>YearBuilt</th>\n",
              "      <th>YearRemodAdd</th>\n",
              "      <th>RoofStyle</th>\n",
              "      <th>RoofMatl</th>\n",
              "      <th>Exterior1st</th>\n",
              "      <th>Exterior2nd</th>\n",
              "      <th>MasVnrType</th>\n",
              "      <th>MasVnrArea</th>\n",
              "      <th>ExterQual</th>\n",
              "      <th>ExterCond</th>\n",
              "      <th>Foundation</th>\n",
              "      <th>BsmtQual</th>\n",
              "      <th>BsmtCond</th>\n",
              "      <th>BsmtExposure</th>\n",
              "      <th>BsmtFinType1</th>\n",
              "      <th>BsmtFinSF1</th>\n",
              "      <th>BsmtFinType2</th>\n",
              "      <th>BsmtFinSF2</th>\n",
              "      <th>BsmtUnfSF</th>\n",
              "      <th>TotalBsmtSF</th>\n",
              "      <th>Heating</th>\n",
              "      <th>HeatingQC</th>\n",
              "      <th>CentralAir</th>\n",
              "      <th>Electrical</th>\n",
              "      <th>1stFlrSF</th>\n",
              "      <th>2ndFlrSF</th>\n",
              "      <th>LowQualFinSF</th>\n",
              "      <th>GrLivArea</th>\n",
              "      <th>BsmtFullBath</th>\n",
              "      <th>BsmtHalfBath</th>\n",
              "      <th>FullBath</th>\n",
              "      <th>HalfBath</th>\n",
              "      <th>BedroomAbvGr</th>\n",
              "      <th>KitchenAbvGr</th>\n",
              "      <th>KitchenQual</th>\n",
              "      <th>TotRmsAbvGrd</th>\n",
              "      <th>Functional</th>\n",
              "      <th>Fireplaces</th>\n",
              "      <th>FireplaceQu</th>\n",
              "      <th>GarageType</th>\n",
              "      <th>GarageYrBlt</th>\n",
              "      <th>GarageFinish</th>\n",
              "      <th>GarageCars</th>\n",
              "      <th>GarageArea</th>\n",
              "      <th>GarageQual</th>\n",
              "      <th>GarageCond</th>\n",
              "      <th>PavedDrive</th>\n",
              "      <th>WoodDeckSF</th>\n",
              "      <th>OpenPorchSF</th>\n",
              "      <th>EnclosedPorch</th>\n",
              "      <th>3SsnPorch</th>\n",
              "      <th>ScreenPorch</th>\n",
              "      <th>PoolArea</th>\n",
              "      <th>MiscVal</th>\n",
              "      <th>MoSold</th>\n",
              "      <th>YrSold</th>\n",
              "      <th>SaleType</th>\n",
              "      <th>SaleCondition</th>\n",
              "      <th>SalePrice</th>\n",
              "    </tr>\n",
              "  </thead>\n",
              "  <tbody>\n",
              "    <tr>\n",
              "      <th>0</th>\n",
              "      <td>60</td>\n",
              "      <td>RL</td>\n",
              "      <td>65.0</td>\n",
              "      <td>8450</td>\n",
              "      <td>Pave</td>\n",
              "      <td>Reg</td>\n",
              "      <td>Lvl</td>\n",
              "      <td>AllPub</td>\n",
              "      <td>Inside</td>\n",
              "      <td>Gtl</td>\n",
              "      <td>CollgCr</td>\n",
              "      <td>Norm</td>\n",
              "      <td>Norm</td>\n",
              "      <td>1Fam</td>\n",
              "      <td>2Story</td>\n",
              "      <td>7</td>\n",
              "      <td>5</td>\n",
              "      <td>2003</td>\n",
              "      <td>2003</td>\n",
              "      <td>Gable</td>\n",
              "      <td>CompShg</td>\n",
              "      <td>VinylSd</td>\n",
              "      <td>VinylSd</td>\n",
              "      <td>BrkFace</td>\n",
              "      <td>196.0</td>\n",
              "      <td>Gd</td>\n",
              "      <td>TA</td>\n",
              "      <td>PConc</td>\n",
              "      <td>Gd</td>\n",
              "      <td>TA</td>\n",
              "      <td>No</td>\n",
              "      <td>GLQ</td>\n",
              "      <td>706</td>\n",
              "      <td>Unf</td>\n",
              "      <td>0</td>\n",
              "      <td>150</td>\n",
              "      <td>856</td>\n",
              "      <td>GasA</td>\n",
              "      <td>Ex</td>\n",
              "      <td>Y</td>\n",
              "      <td>SBrkr</td>\n",
              "      <td>856</td>\n",
              "      <td>854</td>\n",
              "      <td>0</td>\n",
              "      <td>1710</td>\n",
              "      <td>1</td>\n",
              "      <td>0</td>\n",
              "      <td>2</td>\n",
              "      <td>1</td>\n",
              "      <td>3</td>\n",
              "      <td>1</td>\n",
              "      <td>Gd</td>\n",
              "      <td>8</td>\n",
              "      <td>Typ</td>\n",
              "      <td>0</td>\n",
              "      <td>NaN</td>\n",
              "      <td>Attchd</td>\n",
              "      <td>2003.0</td>\n",
              "      <td>RFn</td>\n",
              "      <td>2</td>\n",
              "      <td>548</td>\n",
              "      <td>TA</td>\n",
              "      <td>TA</td>\n",
              "      <td>Y</td>\n",
              "      <td>0</td>\n",
              "      <td>61</td>\n",
              "      <td>0</td>\n",
              "      <td>0</td>\n",
              "      <td>0</td>\n",
              "      <td>0</td>\n",
              "      <td>0</td>\n",
              "      <td>2</td>\n",
              "      <td>2008</td>\n",
              "      <td>WD</td>\n",
              "      <td>Normal</td>\n",
              "      <td>208500</td>\n",
              "    </tr>\n",
              "  </tbody>\n",
              "</table>\n",
              "</div>"
            ],
            "text/plain": [
              "   MSSubClass MSZoning  LotFrontage  ...  SaleType SaleCondition SalePrice\n",
              "0          60       RL         65.0  ...        WD        Normal    208500\n",
              "\n",
              "[1 rows x 76 columns]"
            ]
          },
          "metadata": {
            "tags": []
          },
          "execution_count": 63
        }
      ]
    },
    {
      "cell_type": "code",
      "metadata": {
        "colab": {
          "base_uri": "https://localhost:8080/"
        },
        "id": "q-R34P7tQx_K",
        "outputId": "38718044-ddaf-4031-f579-df2f0c8b5558"
      },
      "source": [
        "original_features=list(data.columns)\n",
        "len(original_features)"
      ],
      "execution_count": 64,
      "outputs": [
        {
          "output_type": "execute_result",
          "data": {
            "text/plain": [
              "76"
            ]
          },
          "metadata": {
            "tags": []
          },
          "execution_count": 64
        }
      ]
    },
    {
      "cell_type": "code",
      "metadata": {
        "colab": {
          "base_uri": "https://localhost:8080/"
        },
        "id": "qYayDiW3Q0cY",
        "outputId": "7460a3ad-fcfa-4bef-a022-26eb74463cdf"
      },
      "source": [
        "features_missing_values=list(data.columns[data.isna().any()])\n",
        "len(features_missing_values)"
      ],
      "execution_count": 65,
      "outputs": [
        {
          "output_type": "execute_result",
          "data": {
            "text/plain": [
              "15"
            ]
          },
          "metadata": {
            "tags": []
          },
          "execution_count": 65
        }
      ]
    },
    {
      "cell_type": "code",
      "metadata": {
        "colab": {
          "base_uri": "https://localhost:8080/"
        },
        "id": "jIa-7ZlmQ3w4",
        "outputId": "48ae6ea9-6a25-4642-ed39-c289edcdf6a0"
      },
      "source": [
        "len(data)"
      ],
      "execution_count": 66,
      "outputs": [
        {
          "output_type": "execute_result",
          "data": {
            "text/plain": [
              "1460"
            ]
          },
          "metadata": {
            "tags": []
          },
          "execution_count": 66
        }
      ]
    },
    {
      "cell_type": "markdown",
      "metadata": {
        "id": "F13a3r1XQ64Q"
      },
      "source": [
        "FILL IN THE MISSING VALUES"
      ]
    },
    {
      "cell_type": "code",
      "metadata": {
        "id": "Fgc9_JcuQ51u"
      },
      "source": [
        "bfill,mean_fill=[],[]"
      ],
      "execution_count": 67,
      "outputs": []
    },
    {
      "cell_type": "code",
      "metadata": {
        "colab": {
          "base_uri": "https://localhost:8080/"
        },
        "id": "awuTc3PbRAK_",
        "outputId": "bbf464f0-1498-4f1e-c441-9e17d020adff"
      },
      "source": [
        "for feature in features_missing_values:\n",
        "  print(feature,' ',data[feature].isna().sum()/len(data)*100,' ',data[feature].dtype)\n",
        "  if data[feature].dtype=='float64':\n",
        "    mean_fill.append(feature)\n",
        "  else:\n",
        "    bfill.append(feature)"
      ],
      "execution_count": 68,
      "outputs": [
        {
          "output_type": "stream",
          "text": [
            "LotFrontage   17.73972602739726   float64\n",
            "MasVnrType   0.547945205479452   object\n",
            "MasVnrArea   0.547945205479452   float64\n",
            "BsmtQual   2.5342465753424657   object\n",
            "BsmtCond   2.5342465753424657   object\n",
            "BsmtExposure   2.6027397260273974   object\n",
            "BsmtFinType1   2.5342465753424657   object\n",
            "BsmtFinType2   2.6027397260273974   object\n",
            "Electrical   0.0684931506849315   object\n",
            "FireplaceQu   47.26027397260274   object\n",
            "GarageType   5.5479452054794525   object\n",
            "GarageYrBlt   5.5479452054794525   float64\n",
            "GarageFinish   5.5479452054794525   object\n",
            "GarageQual   5.5479452054794525   object\n",
            "GarageCond   5.5479452054794525   object\n"
          ],
          "name": "stdout"
        }
      ]
    },
    {
      "cell_type": "code",
      "metadata": {
        "colab": {
          "base_uri": "https://localhost:8080/"
        },
        "id": "C15UxpWMRFy8",
        "outputId": "a3b9e3ff-581d-4f15-db76-42970b399a9b"
      },
      "source": [
        "mean_fill"
      ],
      "execution_count": 69,
      "outputs": [
        {
          "output_type": "execute_result",
          "data": {
            "text/plain": [
              "['LotFrontage', 'MasVnrArea', 'GarageYrBlt']"
            ]
          },
          "metadata": {
            "tags": []
          },
          "execution_count": 69
        }
      ]
    },
    {
      "cell_type": "code",
      "metadata": {
        "id": "jmiwiNjiRKX8"
      },
      "source": [
        "for feature in mean_fill:\n",
        "    data[feature].fillna(data[feature].mean(),inplace=True)"
      ],
      "execution_count": 70,
      "outputs": []
    },
    {
      "cell_type": "code",
      "metadata": {
        "id": "Ahv4gFX1Rj-W"
      },
      "source": [
        "for feature in bfill:\n",
        "    data[feature].fillna(method='bfill',inplace=True)"
      ],
      "execution_count": 71,
      "outputs": []
    },
    {
      "cell_type": "code",
      "metadata": {
        "colab": {
          "base_uri": "https://localhost:8080/"
        },
        "id": "NPP0kmWKRxP7",
        "outputId": "3d5902e3-df45-43d4-f5f3-e8ae5c31b471"
      },
      "source": [
        "data.columns[data.isna().any()]"
      ],
      "execution_count": 72,
      "outputs": [
        {
          "output_type": "execute_result",
          "data": {
            "text/plain": [
              "Index(['FireplaceQu'], dtype='object')"
            ]
          },
          "metadata": {
            "tags": []
          },
          "execution_count": 72
        }
      ]
    },
    {
      "cell_type": "code",
      "metadata": {
        "colab": {
          "base_uri": "https://localhost:8080/"
        },
        "id": "1DWGmkIrR7TD",
        "outputId": "21085d7a-fd9b-4b9e-c38f-ade982ca8578"
      },
      "source": [
        "data['FireplaceQu'].isna().sum()"
      ],
      "execution_count": 73,
      "outputs": [
        {
          "output_type": "execute_result",
          "data": {
            "text/plain": [
              "2"
            ]
          },
          "metadata": {
            "tags": []
          },
          "execution_count": 73
        }
      ]
    },
    {
      "cell_type": "code",
      "metadata": {
        "id": "1IHuW1MsSHkc"
      },
      "source": [
        "data['FireplaceQu'].fillna(method='ffill',inplace=True)"
      ],
      "execution_count": 74,
      "outputs": []
    },
    {
      "cell_type": "markdown",
      "metadata": {
        "id": "l0YYfwOKSZPa"
      },
      "source": [
        "**ENCODE THE DATASET**\n",
        "\n"
      ]
    },
    {
      "cell_type": "code",
      "metadata": {
        "colab": {
          "base_uri": "https://localhost:8080/"
        },
        "id": "UBR-V7ioStuu",
        "outputId": "ec72aac6-f82f-4fd4-a0d3-e03ea466f362"
      },
      "source": [
        "categorical_features=list(data.select_dtypes(include=['object']).columns)\n",
        "categorical_features"
      ],
      "execution_count": 75,
      "outputs": [
        {
          "output_type": "execute_result",
          "data": {
            "text/plain": [
              "['MSZoning',\n",
              " 'Street',\n",
              " 'LotShape',\n",
              " 'LandContour',\n",
              " 'Utilities',\n",
              " 'LotConfig',\n",
              " 'LandSlope',\n",
              " 'Neighborhood',\n",
              " 'Condition1',\n",
              " 'Condition2',\n",
              " 'BldgType',\n",
              " 'HouseStyle',\n",
              " 'RoofStyle',\n",
              " 'RoofMatl',\n",
              " 'Exterior1st',\n",
              " 'Exterior2nd',\n",
              " 'MasVnrType',\n",
              " 'ExterQual',\n",
              " 'ExterCond',\n",
              " 'Foundation',\n",
              " 'BsmtQual',\n",
              " 'BsmtCond',\n",
              " 'BsmtExposure',\n",
              " 'BsmtFinType1',\n",
              " 'BsmtFinType2',\n",
              " 'Heating',\n",
              " 'HeatingQC',\n",
              " 'CentralAir',\n",
              " 'Electrical',\n",
              " 'KitchenQual',\n",
              " 'Functional',\n",
              " 'FireplaceQu',\n",
              " 'GarageType',\n",
              " 'GarageFinish',\n",
              " 'GarageQual',\n",
              " 'GarageCond',\n",
              " 'PavedDrive',\n",
              " 'SaleType',\n",
              " 'SaleCondition']"
            ]
          },
          "metadata": {
            "tags": []
          },
          "execution_count": 75
        }
      ]
    },
    {
      "cell_type": "code",
      "metadata": {
        "colab": {
          "base_uri": "https://localhost:8080/"
        },
        "id": "qE0rDoR3S1rv",
        "outputId": "9fd179d3-d97a-4cb8-e979-df24083f48c2"
      },
      "source": [
        "numerical=list(set(original_features)-set(categorical_features))\n",
        "numerical"
      ],
      "execution_count": 76,
      "outputs": [
        {
          "output_type": "execute_result",
          "data": {
            "text/plain": [
              "['GarageYrBlt',\n",
              " 'BsmtFinSF2',\n",
              " 'GarageArea',\n",
              " 'OpenPorchSF',\n",
              " 'LotFrontage',\n",
              " 'OverallCond',\n",
              " 'PoolArea',\n",
              " '2ndFlrSF',\n",
              " 'MiscVal',\n",
              " 'YrSold',\n",
              " 'FullBath',\n",
              " 'BsmtHalfBath',\n",
              " 'MasVnrArea',\n",
              " 'ScreenPorch',\n",
              " 'GrLivArea',\n",
              " 'MoSold',\n",
              " 'LowQualFinSF',\n",
              " 'HalfBath',\n",
              " 'TotRmsAbvGrd',\n",
              " 'GarageCars',\n",
              " '1stFlrSF',\n",
              " 'KitchenAbvGr',\n",
              " 'YearRemodAdd',\n",
              " 'LotArea',\n",
              " '3SsnPorch',\n",
              " 'TotalBsmtSF',\n",
              " 'EnclosedPorch',\n",
              " 'YearBuilt',\n",
              " 'WoodDeckSF',\n",
              " 'OverallQual',\n",
              " 'SalePrice',\n",
              " 'BsmtFullBath',\n",
              " 'Fireplaces',\n",
              " 'BsmtUnfSF',\n",
              " 'BedroomAbvGr',\n",
              " 'MSSubClass',\n",
              " 'BsmtFinSF1']"
            ]
          },
          "metadata": {
            "tags": []
          },
          "execution_count": 76
        }
      ]
    },
    {
      "cell_type": "code",
      "metadata": {
        "colab": {
          "base_uri": "https://localhost:8080/"
        },
        "id": "qHdpZZ1ITBVl",
        "outputId": "b80066ce-8b0e-47a3-e934-f26f98cf22c5"
      },
      "source": [
        "categorical_features"
      ],
      "execution_count": 77,
      "outputs": [
        {
          "output_type": "execute_result",
          "data": {
            "text/plain": [
              "['MSZoning',\n",
              " 'Street',\n",
              " 'LotShape',\n",
              " 'LandContour',\n",
              " 'Utilities',\n",
              " 'LotConfig',\n",
              " 'LandSlope',\n",
              " 'Neighborhood',\n",
              " 'Condition1',\n",
              " 'Condition2',\n",
              " 'BldgType',\n",
              " 'HouseStyle',\n",
              " 'RoofStyle',\n",
              " 'RoofMatl',\n",
              " 'Exterior1st',\n",
              " 'Exterior2nd',\n",
              " 'MasVnrType',\n",
              " 'ExterQual',\n",
              " 'ExterCond',\n",
              " 'Foundation',\n",
              " 'BsmtQual',\n",
              " 'BsmtCond',\n",
              " 'BsmtExposure',\n",
              " 'BsmtFinType1',\n",
              " 'BsmtFinType2',\n",
              " 'Heating',\n",
              " 'HeatingQC',\n",
              " 'CentralAir',\n",
              " 'Electrical',\n",
              " 'KitchenQual',\n",
              " 'Functional',\n",
              " 'FireplaceQu',\n",
              " 'GarageType',\n",
              " 'GarageFinish',\n",
              " 'GarageQual',\n",
              " 'GarageCond',\n",
              " 'PavedDrive',\n",
              " 'SaleType',\n",
              " 'SaleCondition']"
            ]
          },
          "metadata": {
            "tags": []
          },
          "execution_count": 77
        }
      ]
    },
    {
      "cell_type": "code",
      "metadata": {
        "id": "UipfXB_ZTiNR"
      },
      "source": [
        "nominal=['MSZoning','LandContour','Neighborhood']\n",
        "ordinal=list(set(categorical_features)-set(nominal))"
      ],
      "execution_count": 78,
      "outputs": []
    },
    {
      "cell_type": "code",
      "metadata": {
        "id": "5H51VCTUTltQ"
      },
      "source": [
        "target=['SalePrice']"
      ],
      "execution_count": 79,
      "outputs": []
    },
    {
      "cell_type": "code",
      "metadata": {
        "id": "OKigs7luTozT"
      },
      "source": [
        "df_nominal=pd.get_dummies(data[nominal])"
      ],
      "execution_count": 80,
      "outputs": []
    },
    {
      "cell_type": "code",
      "metadata": {
        "id": "dWjNJyTXTq0p"
      },
      "source": [
        "for feature in ordinal:\n",
        "  data[feature]=data[feature].astype('category').cat.codes\n",
        "\n",
        "df_ordinal=data[ordinal]"
      ],
      "execution_count": 81,
      "outputs": []
    },
    {
      "cell_type": "code",
      "metadata": {
        "colab": {
          "base_uri": "https://localhost:8080/",
          "height": 437
        },
        "id": "-g0WrsbTTspN",
        "outputId": "3c7d29ae-ed54-49b1-8292-a376353fbc02"
      },
      "source": [
        "data[numerical]"
      ],
      "execution_count": 82,
      "outputs": [
        {
          "output_type": "execute_result",
          "data": {
            "text/html": [
              "<div>\n",
              "<style scoped>\n",
              "    .dataframe tbody tr th:only-of-type {\n",
              "        vertical-align: middle;\n",
              "    }\n",
              "\n",
              "    .dataframe tbody tr th {\n",
              "        vertical-align: top;\n",
              "    }\n",
              "\n",
              "    .dataframe thead th {\n",
              "        text-align: right;\n",
              "    }\n",
              "</style>\n",
              "<table border=\"1\" class=\"dataframe\">\n",
              "  <thead>\n",
              "    <tr style=\"text-align: right;\">\n",
              "      <th></th>\n",
              "      <th>GarageYrBlt</th>\n",
              "      <th>BsmtFinSF2</th>\n",
              "      <th>GarageArea</th>\n",
              "      <th>OpenPorchSF</th>\n",
              "      <th>LotFrontage</th>\n",
              "      <th>OverallCond</th>\n",
              "      <th>PoolArea</th>\n",
              "      <th>2ndFlrSF</th>\n",
              "      <th>MiscVal</th>\n",
              "      <th>YrSold</th>\n",
              "      <th>FullBath</th>\n",
              "      <th>BsmtHalfBath</th>\n",
              "      <th>MasVnrArea</th>\n",
              "      <th>ScreenPorch</th>\n",
              "      <th>GrLivArea</th>\n",
              "      <th>MoSold</th>\n",
              "      <th>LowQualFinSF</th>\n",
              "      <th>HalfBath</th>\n",
              "      <th>TotRmsAbvGrd</th>\n",
              "      <th>GarageCars</th>\n",
              "      <th>1stFlrSF</th>\n",
              "      <th>KitchenAbvGr</th>\n",
              "      <th>YearRemodAdd</th>\n",
              "      <th>LotArea</th>\n",
              "      <th>3SsnPorch</th>\n",
              "      <th>TotalBsmtSF</th>\n",
              "      <th>EnclosedPorch</th>\n",
              "      <th>YearBuilt</th>\n",
              "      <th>WoodDeckSF</th>\n",
              "      <th>OverallQual</th>\n",
              "      <th>SalePrice</th>\n",
              "      <th>BsmtFullBath</th>\n",
              "      <th>Fireplaces</th>\n",
              "      <th>BsmtUnfSF</th>\n",
              "      <th>BedroomAbvGr</th>\n",
              "      <th>MSSubClass</th>\n",
              "      <th>BsmtFinSF1</th>\n",
              "    </tr>\n",
              "  </thead>\n",
              "  <tbody>\n",
              "    <tr>\n",
              "      <th>0</th>\n",
              "      <td>2003.0</td>\n",
              "      <td>0</td>\n",
              "      <td>548</td>\n",
              "      <td>61</td>\n",
              "      <td>65.0</td>\n",
              "      <td>5</td>\n",
              "      <td>0</td>\n",
              "      <td>854</td>\n",
              "      <td>0</td>\n",
              "      <td>2008</td>\n",
              "      <td>2</td>\n",
              "      <td>0</td>\n",
              "      <td>196.0</td>\n",
              "      <td>0</td>\n",
              "      <td>1710</td>\n",
              "      <td>2</td>\n",
              "      <td>0</td>\n",
              "      <td>1</td>\n",
              "      <td>8</td>\n",
              "      <td>2</td>\n",
              "      <td>856</td>\n",
              "      <td>1</td>\n",
              "      <td>2003</td>\n",
              "      <td>8450</td>\n",
              "      <td>0</td>\n",
              "      <td>856</td>\n",
              "      <td>0</td>\n",
              "      <td>2003</td>\n",
              "      <td>0</td>\n",
              "      <td>7</td>\n",
              "      <td>208500</td>\n",
              "      <td>1</td>\n",
              "      <td>0</td>\n",
              "      <td>150</td>\n",
              "      <td>3</td>\n",
              "      <td>60</td>\n",
              "      <td>706</td>\n",
              "    </tr>\n",
              "    <tr>\n",
              "      <th>1</th>\n",
              "      <td>1976.0</td>\n",
              "      <td>0</td>\n",
              "      <td>460</td>\n",
              "      <td>0</td>\n",
              "      <td>80.0</td>\n",
              "      <td>8</td>\n",
              "      <td>0</td>\n",
              "      <td>0</td>\n",
              "      <td>0</td>\n",
              "      <td>2007</td>\n",
              "      <td>2</td>\n",
              "      <td>1</td>\n",
              "      <td>0.0</td>\n",
              "      <td>0</td>\n",
              "      <td>1262</td>\n",
              "      <td>5</td>\n",
              "      <td>0</td>\n",
              "      <td>0</td>\n",
              "      <td>6</td>\n",
              "      <td>2</td>\n",
              "      <td>1262</td>\n",
              "      <td>1</td>\n",
              "      <td>1976</td>\n",
              "      <td>9600</td>\n",
              "      <td>0</td>\n",
              "      <td>1262</td>\n",
              "      <td>0</td>\n",
              "      <td>1976</td>\n",
              "      <td>298</td>\n",
              "      <td>6</td>\n",
              "      <td>181500</td>\n",
              "      <td>0</td>\n",
              "      <td>1</td>\n",
              "      <td>284</td>\n",
              "      <td>3</td>\n",
              "      <td>20</td>\n",
              "      <td>978</td>\n",
              "    </tr>\n",
              "    <tr>\n",
              "      <th>2</th>\n",
              "      <td>2001.0</td>\n",
              "      <td>0</td>\n",
              "      <td>608</td>\n",
              "      <td>42</td>\n",
              "      <td>68.0</td>\n",
              "      <td>5</td>\n",
              "      <td>0</td>\n",
              "      <td>866</td>\n",
              "      <td>0</td>\n",
              "      <td>2008</td>\n",
              "      <td>2</td>\n",
              "      <td>0</td>\n",
              "      <td>162.0</td>\n",
              "      <td>0</td>\n",
              "      <td>1786</td>\n",
              "      <td>9</td>\n",
              "      <td>0</td>\n",
              "      <td>1</td>\n",
              "      <td>6</td>\n",
              "      <td>2</td>\n",
              "      <td>920</td>\n",
              "      <td>1</td>\n",
              "      <td>2002</td>\n",
              "      <td>11250</td>\n",
              "      <td>0</td>\n",
              "      <td>920</td>\n",
              "      <td>0</td>\n",
              "      <td>2001</td>\n",
              "      <td>0</td>\n",
              "      <td>7</td>\n",
              "      <td>223500</td>\n",
              "      <td>1</td>\n",
              "      <td>1</td>\n",
              "      <td>434</td>\n",
              "      <td>3</td>\n",
              "      <td>60</td>\n",
              "      <td>486</td>\n",
              "    </tr>\n",
              "    <tr>\n",
              "      <th>3</th>\n",
              "      <td>1998.0</td>\n",
              "      <td>0</td>\n",
              "      <td>642</td>\n",
              "      <td>35</td>\n",
              "      <td>60.0</td>\n",
              "      <td>5</td>\n",
              "      <td>0</td>\n",
              "      <td>756</td>\n",
              "      <td>0</td>\n",
              "      <td>2006</td>\n",
              "      <td>1</td>\n",
              "      <td>0</td>\n",
              "      <td>0.0</td>\n",
              "      <td>0</td>\n",
              "      <td>1717</td>\n",
              "      <td>2</td>\n",
              "      <td>0</td>\n",
              "      <td>0</td>\n",
              "      <td>7</td>\n",
              "      <td>3</td>\n",
              "      <td>961</td>\n",
              "      <td>1</td>\n",
              "      <td>1970</td>\n",
              "      <td>9550</td>\n",
              "      <td>0</td>\n",
              "      <td>756</td>\n",
              "      <td>272</td>\n",
              "      <td>1915</td>\n",
              "      <td>0</td>\n",
              "      <td>7</td>\n",
              "      <td>140000</td>\n",
              "      <td>1</td>\n",
              "      <td>1</td>\n",
              "      <td>540</td>\n",
              "      <td>3</td>\n",
              "      <td>70</td>\n",
              "      <td>216</td>\n",
              "    </tr>\n",
              "    <tr>\n",
              "      <th>4</th>\n",
              "      <td>2000.0</td>\n",
              "      <td>0</td>\n",
              "      <td>836</td>\n",
              "      <td>84</td>\n",
              "      <td>84.0</td>\n",
              "      <td>5</td>\n",
              "      <td>0</td>\n",
              "      <td>1053</td>\n",
              "      <td>0</td>\n",
              "      <td>2008</td>\n",
              "      <td>2</td>\n",
              "      <td>0</td>\n",
              "      <td>350.0</td>\n",
              "      <td>0</td>\n",
              "      <td>2198</td>\n",
              "      <td>12</td>\n",
              "      <td>0</td>\n",
              "      <td>1</td>\n",
              "      <td>9</td>\n",
              "      <td>3</td>\n",
              "      <td>1145</td>\n",
              "      <td>1</td>\n",
              "      <td>2000</td>\n",
              "      <td>14260</td>\n",
              "      <td>0</td>\n",
              "      <td>1145</td>\n",
              "      <td>0</td>\n",
              "      <td>2000</td>\n",
              "      <td>192</td>\n",
              "      <td>8</td>\n",
              "      <td>250000</td>\n",
              "      <td>1</td>\n",
              "      <td>1</td>\n",
              "      <td>490</td>\n",
              "      <td>4</td>\n",
              "      <td>60</td>\n",
              "      <td>655</td>\n",
              "    </tr>\n",
              "    <tr>\n",
              "      <th>...</th>\n",
              "      <td>...</td>\n",
              "      <td>...</td>\n",
              "      <td>...</td>\n",
              "      <td>...</td>\n",
              "      <td>...</td>\n",
              "      <td>...</td>\n",
              "      <td>...</td>\n",
              "      <td>...</td>\n",
              "      <td>...</td>\n",
              "      <td>...</td>\n",
              "      <td>...</td>\n",
              "      <td>...</td>\n",
              "      <td>...</td>\n",
              "      <td>...</td>\n",
              "      <td>...</td>\n",
              "      <td>...</td>\n",
              "      <td>...</td>\n",
              "      <td>...</td>\n",
              "      <td>...</td>\n",
              "      <td>...</td>\n",
              "      <td>...</td>\n",
              "      <td>...</td>\n",
              "      <td>...</td>\n",
              "      <td>...</td>\n",
              "      <td>...</td>\n",
              "      <td>...</td>\n",
              "      <td>...</td>\n",
              "      <td>...</td>\n",
              "      <td>...</td>\n",
              "      <td>...</td>\n",
              "      <td>...</td>\n",
              "      <td>...</td>\n",
              "      <td>...</td>\n",
              "      <td>...</td>\n",
              "      <td>...</td>\n",
              "      <td>...</td>\n",
              "      <td>...</td>\n",
              "    </tr>\n",
              "    <tr>\n",
              "      <th>1455</th>\n",
              "      <td>1999.0</td>\n",
              "      <td>0</td>\n",
              "      <td>460</td>\n",
              "      <td>40</td>\n",
              "      <td>62.0</td>\n",
              "      <td>5</td>\n",
              "      <td>0</td>\n",
              "      <td>694</td>\n",
              "      <td>0</td>\n",
              "      <td>2007</td>\n",
              "      <td>2</td>\n",
              "      <td>0</td>\n",
              "      <td>0.0</td>\n",
              "      <td>0</td>\n",
              "      <td>1647</td>\n",
              "      <td>8</td>\n",
              "      <td>0</td>\n",
              "      <td>1</td>\n",
              "      <td>7</td>\n",
              "      <td>2</td>\n",
              "      <td>953</td>\n",
              "      <td>1</td>\n",
              "      <td>2000</td>\n",
              "      <td>7917</td>\n",
              "      <td>0</td>\n",
              "      <td>953</td>\n",
              "      <td>0</td>\n",
              "      <td>1999</td>\n",
              "      <td>0</td>\n",
              "      <td>6</td>\n",
              "      <td>175000</td>\n",
              "      <td>0</td>\n",
              "      <td>1</td>\n",
              "      <td>953</td>\n",
              "      <td>3</td>\n",
              "      <td>60</td>\n",
              "      <td>0</td>\n",
              "    </tr>\n",
              "    <tr>\n",
              "      <th>1456</th>\n",
              "      <td>1978.0</td>\n",
              "      <td>163</td>\n",
              "      <td>500</td>\n",
              "      <td>0</td>\n",
              "      <td>85.0</td>\n",
              "      <td>6</td>\n",
              "      <td>0</td>\n",
              "      <td>0</td>\n",
              "      <td>0</td>\n",
              "      <td>2010</td>\n",
              "      <td>2</td>\n",
              "      <td>0</td>\n",
              "      <td>119.0</td>\n",
              "      <td>0</td>\n",
              "      <td>2073</td>\n",
              "      <td>2</td>\n",
              "      <td>0</td>\n",
              "      <td>0</td>\n",
              "      <td>7</td>\n",
              "      <td>2</td>\n",
              "      <td>2073</td>\n",
              "      <td>1</td>\n",
              "      <td>1988</td>\n",
              "      <td>13175</td>\n",
              "      <td>0</td>\n",
              "      <td>1542</td>\n",
              "      <td>0</td>\n",
              "      <td>1978</td>\n",
              "      <td>349</td>\n",
              "      <td>6</td>\n",
              "      <td>210000</td>\n",
              "      <td>1</td>\n",
              "      <td>2</td>\n",
              "      <td>589</td>\n",
              "      <td>3</td>\n",
              "      <td>20</td>\n",
              "      <td>790</td>\n",
              "    </tr>\n",
              "    <tr>\n",
              "      <th>1457</th>\n",
              "      <td>1941.0</td>\n",
              "      <td>0</td>\n",
              "      <td>252</td>\n",
              "      <td>60</td>\n",
              "      <td>66.0</td>\n",
              "      <td>9</td>\n",
              "      <td>0</td>\n",
              "      <td>1152</td>\n",
              "      <td>2500</td>\n",
              "      <td>2010</td>\n",
              "      <td>2</td>\n",
              "      <td>0</td>\n",
              "      <td>0.0</td>\n",
              "      <td>0</td>\n",
              "      <td>2340</td>\n",
              "      <td>5</td>\n",
              "      <td>0</td>\n",
              "      <td>0</td>\n",
              "      <td>9</td>\n",
              "      <td>1</td>\n",
              "      <td>1188</td>\n",
              "      <td>1</td>\n",
              "      <td>2006</td>\n",
              "      <td>9042</td>\n",
              "      <td>0</td>\n",
              "      <td>1152</td>\n",
              "      <td>0</td>\n",
              "      <td>1941</td>\n",
              "      <td>0</td>\n",
              "      <td>7</td>\n",
              "      <td>266500</td>\n",
              "      <td>0</td>\n",
              "      <td>2</td>\n",
              "      <td>877</td>\n",
              "      <td>4</td>\n",
              "      <td>70</td>\n",
              "      <td>275</td>\n",
              "    </tr>\n",
              "    <tr>\n",
              "      <th>1458</th>\n",
              "      <td>1950.0</td>\n",
              "      <td>1029</td>\n",
              "      <td>240</td>\n",
              "      <td>0</td>\n",
              "      <td>68.0</td>\n",
              "      <td>6</td>\n",
              "      <td>0</td>\n",
              "      <td>0</td>\n",
              "      <td>0</td>\n",
              "      <td>2010</td>\n",
              "      <td>1</td>\n",
              "      <td>0</td>\n",
              "      <td>0.0</td>\n",
              "      <td>0</td>\n",
              "      <td>1078</td>\n",
              "      <td>4</td>\n",
              "      <td>0</td>\n",
              "      <td>0</td>\n",
              "      <td>5</td>\n",
              "      <td>1</td>\n",
              "      <td>1078</td>\n",
              "      <td>1</td>\n",
              "      <td>1996</td>\n",
              "      <td>9717</td>\n",
              "      <td>0</td>\n",
              "      <td>1078</td>\n",
              "      <td>112</td>\n",
              "      <td>1950</td>\n",
              "      <td>366</td>\n",
              "      <td>5</td>\n",
              "      <td>142125</td>\n",
              "      <td>1</td>\n",
              "      <td>0</td>\n",
              "      <td>0</td>\n",
              "      <td>2</td>\n",
              "      <td>20</td>\n",
              "      <td>49</td>\n",
              "    </tr>\n",
              "    <tr>\n",
              "      <th>1459</th>\n",
              "      <td>1965.0</td>\n",
              "      <td>290</td>\n",
              "      <td>276</td>\n",
              "      <td>68</td>\n",
              "      <td>75.0</td>\n",
              "      <td>6</td>\n",
              "      <td>0</td>\n",
              "      <td>0</td>\n",
              "      <td>0</td>\n",
              "      <td>2008</td>\n",
              "      <td>1</td>\n",
              "      <td>0</td>\n",
              "      <td>0.0</td>\n",
              "      <td>0</td>\n",
              "      <td>1256</td>\n",
              "      <td>6</td>\n",
              "      <td>0</td>\n",
              "      <td>1</td>\n",
              "      <td>6</td>\n",
              "      <td>1</td>\n",
              "      <td>1256</td>\n",
              "      <td>1</td>\n",
              "      <td>1965</td>\n",
              "      <td>9937</td>\n",
              "      <td>0</td>\n",
              "      <td>1256</td>\n",
              "      <td>0</td>\n",
              "      <td>1965</td>\n",
              "      <td>736</td>\n",
              "      <td>5</td>\n",
              "      <td>147500</td>\n",
              "      <td>1</td>\n",
              "      <td>0</td>\n",
              "      <td>136</td>\n",
              "      <td>3</td>\n",
              "      <td>20</td>\n",
              "      <td>830</td>\n",
              "    </tr>\n",
              "  </tbody>\n",
              "</table>\n",
              "<p>1460 rows × 37 columns</p>\n",
              "</div>"
            ],
            "text/plain": [
              "      GarageYrBlt  BsmtFinSF2  GarageArea  ...  BedroomAbvGr  MSSubClass  BsmtFinSF1\n",
              "0          2003.0           0         548  ...             3          60         706\n",
              "1          1976.0           0         460  ...             3          20         978\n",
              "2          2001.0           0         608  ...             3          60         486\n",
              "3          1998.0           0         642  ...             3          70         216\n",
              "4          2000.0           0         836  ...             4          60         655\n",
              "...           ...         ...         ...  ...           ...         ...         ...\n",
              "1455       1999.0           0         460  ...             3          60           0\n",
              "1456       1978.0         163         500  ...             3          20         790\n",
              "1457       1941.0           0         252  ...             4          70         275\n",
              "1458       1950.0        1029         240  ...             2          20          49\n",
              "1459       1965.0         290         276  ...             3          20         830\n",
              "\n",
              "[1460 rows x 37 columns]"
            ]
          },
          "metadata": {
            "tags": []
          },
          "execution_count": 82
        }
      ]
    },
    {
      "cell_type": "code",
      "metadata": {
        "id": "AWKokM1_TvXu"
      },
      "source": [
        "new_data=pd.concat([df_nominal,df_ordinal,data[numerical]],axis=1)"
      ],
      "execution_count": 83,
      "outputs": []
    },
    {
      "cell_type": "code",
      "metadata": {
        "colab": {
          "base_uri": "https://localhost:8080/"
        },
        "id": "tETlL9z_Tsk7",
        "outputId": "f635ebff-ea5d-4a25-c248-02ed9291a834"
      },
      "source": [
        "new_data.shape"
      ],
      "execution_count": 84,
      "outputs": [
        {
          "output_type": "execute_result",
          "data": {
            "text/plain": [
              "(1460, 107)"
            ]
          },
          "metadata": {
            "tags": []
          },
          "execution_count": 84
        }
      ]
    },
    {
      "cell_type": "markdown",
      "metadata": {
        "id": "-Z05ZuL6UAHN"
      },
      "source": [
        "**STANDARDIZE THE DATASET**"
      ]
    },
    {
      "cell_type": "code",
      "metadata": {
        "id": "La3_0lWpUGtr"
      },
      "source": [
        "new_data.drop('SalePrice',axis=1,inplace=True)"
      ],
      "execution_count": 85,
      "outputs": []
    },
    {
      "cell_type": "code",
      "metadata": {
        "id": "HzgTc_JZTqnW"
      },
      "source": [
        "X=new_data.to_numpy()"
      ],
      "execution_count": 86,
      "outputs": []
    },
    {
      "cell_type": "code",
      "metadata": {
        "colab": {
          "base_uri": "https://localhost:8080/"
        },
        "id": "TRpsiAATUPmR",
        "outputId": "f3cca63b-d720-49ba-f510-1deca180510d"
      },
      "source": [
        "X[0]"
      ],
      "execution_count": 87,
      "outputs": [
        {
          "output_type": "execute_result",
          "data": {
            "text/plain": [
              "array([0.000e+00, 0.000e+00, 0.000e+00, 1.000e+00, 0.000e+00, 0.000e+00,\n",
              "       0.000e+00, 0.000e+00, 1.000e+00, 0.000e+00, 0.000e+00, 0.000e+00,\n",
              "       0.000e+00, 0.000e+00, 1.000e+00, 0.000e+00, 0.000e+00, 0.000e+00,\n",
              "       0.000e+00, 0.000e+00, 0.000e+00, 0.000e+00, 0.000e+00, 0.000e+00,\n",
              "       0.000e+00, 0.000e+00, 0.000e+00, 0.000e+00, 0.000e+00, 0.000e+00,\n",
              "       0.000e+00, 0.000e+00, 0.000e+00, 0.000e+00, 0.000e+00, 2.000e+00,\n",
              "       4.000e+00, 1.300e+01, 1.000e+00, 4.000e+00, 1.000e+00, 1.000e+00,\n",
              "       2.000e+00, 2.000e+00, 0.000e+00, 1.200e+01, 0.000e+00, 1.000e+00,\n",
              "       4.000e+00, 2.000e+00, 4.000e+00, 2.000e+00, 4.000e+00, 5.000e+00,\n",
              "       3.000e+00, 2.000e+00, 8.000e+00, 3.000e+00, 1.000e+00, 1.000e+00,\n",
              "       4.000e+00, 6.000e+00, 4.000e+00, 1.000e+00, 2.000e+00, 1.000e+00,\n",
              "       0.000e+00, 3.000e+00, 5.000e+00, 2.000e+00, 2.003e+03, 0.000e+00,\n",
              "       5.480e+02, 6.100e+01, 6.500e+01, 5.000e+00, 0.000e+00, 8.540e+02,\n",
              "       0.000e+00, 2.008e+03, 2.000e+00, 0.000e+00, 1.960e+02, 0.000e+00,\n",
              "       1.710e+03, 2.000e+00, 0.000e+00, 1.000e+00, 8.000e+00, 2.000e+00,\n",
              "       8.560e+02, 1.000e+00, 2.003e+03, 8.450e+03, 0.000e+00, 8.560e+02,\n",
              "       0.000e+00, 2.003e+03, 0.000e+00, 7.000e+00, 1.000e+00, 0.000e+00,\n",
              "       1.500e+02, 3.000e+00, 6.000e+01, 7.060e+02])"
            ]
          },
          "metadata": {
            "tags": []
          },
          "execution_count": 87
        }
      ]
    },
    {
      "cell_type": "code",
      "metadata": {
        "id": "NH5mVk6TURkp"
      },
      "source": [
        "X=StandardScaler().fit_transform(X)"
      ],
      "execution_count": 88,
      "outputs": []
    },
    {
      "cell_type": "code",
      "metadata": {
        "colab": {
          "base_uri": "https://localhost:8080/"
        },
        "id": "P4xd5KHYUReX",
        "outputId": "f8141716-a2d5-46ea-90b5-c7a25842f344"
      },
      "source": [
        "X[0]"
      ],
      "execution_count": 89,
      "outputs": [
        {
          "output_type": "execute_result",
          "data": {
            "text/plain": [
              "array([-0.08304548, -0.21585871, -0.10526316,  0.51813339, -0.41895507,\n",
              "       -0.21235968, -0.18831089, -0.15899968,  0.33712564, -0.10854037,\n",
              "       -0.03703704, -0.10526316, -0.20339487, -0.1398323 ,  2.95522137,\n",
              "       -0.19025216, -0.27116307, -0.23917551, -0.16124951, -0.10854037,\n",
              "       -0.1863522 , -0.42683279, -0.07875671, -0.22941573, -0.16998114,\n",
              "       -0.23595776, -0.28963792, -0.13199092, -0.23106504, -0.20521398,\n",
              "       -0.25018188, -0.13199092, -0.16347148, -0.08712888, -0.22571613,\n",
              "       -0.77797579,  0.36420746,  0.75162623, -0.71775144,  0.303692  ,\n",
              "       -0.23012211, -0.12579688, -0.40779461, -0.40936914, -0.88465767,\n",
              "        0.74309239, -0.41169079, -1.23804229,  0.18797343, -0.03628912,\n",
              "        1.11993319, -0.29055229,  0.60466978,  0.30941909,  0.75073056,\n",
              "        0.28974476,  0.31386709,  0.28780036,  0.06423821, -0.49151573,\n",
              "        0.22403433,  0.25597761,  0.2085023 ,  0.26381257,  0.83559903,\n",
              "       -0.12304604, -0.02618016,  0.64046232,  1.02668924, -0.03174026,\n",
              "        1.02115667, -0.28865283,  0.35100032,  0.21650316, -0.22937175,\n",
              "       -0.51719981, -0.06869175,  1.16185159, -0.08768781,  0.13877749,\n",
              "        0.78974052, -0.24106104,  0.51141841, -0.27020835,  0.37033344,\n",
              "       -1.5991111 , -0.12024172,  1.22758538,  0.91220977,  0.31172464,\n",
              "       -0.79343379, -0.21145358,  0.87866809, -0.20714171, -0.11633929,\n",
              "       -0.45930254, -0.3593249 ,  1.05099379, -0.75217584,  0.65147924,\n",
              "        1.10781015, -0.95122649, -0.94459061,  0.16377912,  0.07337496,\n",
              "        0.57542484])"
            ]
          },
          "metadata": {
            "tags": []
          },
          "execution_count": 89
        }
      ]
    },
    {
      "cell_type": "code",
      "metadata": {
        "id": "T2nXVe1jURTl"
      },
      "source": [
        "y=data[target]"
      ],
      "execution_count": 90,
      "outputs": []
    },
    {
      "cell_type": "code",
      "metadata": {
        "id": "jcnjQngcUfIQ"
      },
      "source": [
        "y=y.to_numpy()"
      ],
      "execution_count": 91,
      "outputs": []
    },
    {
      "cell_type": "code",
      "metadata": {
        "colab": {
          "base_uri": "https://localhost:8080/"
        },
        "id": "dp1iL_GTUe7g",
        "outputId": "f968570d-970f-442b-fc55-eb632a337838"
      },
      "source": [
        "y.shape"
      ],
      "execution_count": 92,
      "outputs": [
        {
          "output_type": "execute_result",
          "data": {
            "text/plain": [
              "(1460, 1)"
            ]
          },
          "metadata": {
            "tags": []
          },
          "execution_count": 92
        }
      ]
    },
    {
      "cell_type": "code",
      "metadata": {
        "colab": {
          "base_uri": "https://localhost:8080/"
        },
        "id": "cGfwtgcBUeBI",
        "outputId": "23a47600-8ec5-4b81-980c-ee99e67b6943"
      },
      "source": [
        "y"
      ],
      "execution_count": 93,
      "outputs": [
        {
          "output_type": "execute_result",
          "data": {
            "text/plain": [
              "array([[208500],\n",
              "       [181500],\n",
              "       [223500],\n",
              "       ...,\n",
              "       [266500],\n",
              "       [142125],\n",
              "       [147500]])"
            ]
          },
          "metadata": {
            "tags": []
          },
          "execution_count": 93
        }
      ]
    },
    {
      "cell_type": "code",
      "metadata": {
        "id": "KwckydYOUd-i"
      },
      "source": [
        "y=StandardScaler().fit_transform(y)"
      ],
      "execution_count": 94,
      "outputs": []
    },
    {
      "cell_type": "code",
      "metadata": {
        "colab": {
          "base_uri": "https://localhost:8080/"
        },
        "id": "Xif45BlVUd7O",
        "outputId": "b006c51a-206f-445b-8e5a-f2bd5162740d"
      },
      "source": [
        "y"
      ],
      "execution_count": 95,
      "outputs": [
        {
          "output_type": "execute_result",
          "data": {
            "text/plain": [
              "array([[ 0.34727322],\n",
              "       [ 0.00728832],\n",
              "       [ 0.53615372],\n",
              "       ...,\n",
              "       [ 1.07761115],\n",
              "       [-0.48852299],\n",
              "       [-0.42084081]])"
            ]
          },
          "metadata": {
            "tags": []
          },
          "execution_count": 95
        }
      ]
    },
    {
      "cell_type": "code",
      "metadata": {
        "colab": {
          "base_uri": "https://localhost:8080/"
        },
        "id": "nI_MkQORUs7i",
        "outputId": "2bf3bdc5-0d4c-4e99-d9cf-3a207385bfe3"
      },
      "source": [
        "X.shape"
      ],
      "execution_count": 96,
      "outputs": [
        {
          "output_type": "execute_result",
          "data": {
            "text/plain": [
              "(1460, 106)"
            ]
          },
          "metadata": {
            "tags": []
          },
          "execution_count": 96
        }
      ]
    },
    {
      "cell_type": "markdown",
      "metadata": {
        "id": "6B0ZFRLZU_ph"
      },
      "source": [
        "**FEATURE SELETION USING L1**"
      ]
    },
    {
      "cell_type": "code",
      "metadata": {
        "colab": {
          "base_uri": "https://localhost:8080/"
        },
        "id": "-3VXiMcuVF6W",
        "outputId": "4156cebd-3da0-4988-85ed-92f96ca8fffd"
      },
      "source": [
        "numerics = ['int16','int32','int64','float16','float32','float64']\n",
        "numerical_vars = list(data.select_dtypes(include=numerics).columns)\n",
        "data = data[numerical_vars]\n",
        "data.shape"
      ],
      "execution_count": 97,
      "outputs": [
        {
          "output_type": "execute_result",
          "data": {
            "text/plain": [
              "(1460, 37)"
            ]
          },
          "metadata": {
            "tags": []
          },
          "execution_count": 97
        }
      ]
    },
    {
      "cell_type": "code",
      "metadata": {
        "colab": {
          "base_uri": "https://localhost:8080/"
        },
        "id": "VI8vHdERfDOM",
        "outputId": "b2acccb2-f9de-47f3-8a29-c570eb8f864c"
      },
      "source": [
        "X = data.drop(\"SalePrice\",1)\n",
        "y = data[\"SalePrice\"]\n",
        "regressor=LassoCV()\n",
        "regressor.fit(X,y)"
      ],
      "execution_count": 98,
      "outputs": [
        {
          "output_type": "execute_result",
          "data": {
            "text/plain": [
              "LassoCV(alphas=None, copy_X=True, cv=None, eps=0.001, fit_intercept=True,\n",
              "        max_iter=1000, n_alphas=100, n_jobs=None, normalize=False,\n",
              "        positive=False, precompute='auto', random_state=None,\n",
              "        selection='cyclic', tol=0.0001, verbose=False)"
            ]
          },
          "metadata": {
            "tags": []
          },
          "execution_count": 98
        }
      ]
    },
    {
      "cell_type": "code",
      "metadata": {
        "colab": {
          "base_uri": "https://localhost:8080/"
        },
        "id": "l5Hrq2jafA4e",
        "outputId": "82ee9fee-2778-470e-fcd8-7f01158ee4ce"
      },
      "source": [
        "X_train, X_test, y_train, y_test = train_test_split(\n",
        "    data.drop(labels=['SalePrice'], axis=1),\n",
        "    data['SalePrice'],\n",
        "    test_size=0.3,\n",
        "    random_state=0)\n",
        "X_train.shape, X_test.shape"
      ],
      "execution_count": 99,
      "outputs": [
        {
          "output_type": "execute_result",
          "data": {
            "text/plain": [
              "((1022, 36), (438, 36))"
            ]
          },
          "metadata": {
            "tags": []
          },
          "execution_count": 99
        }
      ]
    },
    {
      "cell_type": "code",
      "metadata": {
        "colab": {
          "base_uri": "https://localhost:8080/",
          "height": 470
        },
        "id": "2UTPqUgNiAVV",
        "outputId": "171e5e17-93ab-478a-b9c0-e8171a23377c"
      },
      "source": [
        "new_x = PowerTransformer().fit_transform(data)\n",
        "\n",
        "test_data = pd.DataFrame(new_x,columns=data.columns)\n",
        "test_data = pd.concat([test_data[numerical],test_data[target]],axis=1)\n",
        "test_data"
      ],
      "execution_count": 100,
      "outputs": [
        {
          "output_type": "stream",
          "text": [
            "/usr/local/lib/python3.7/dist-packages/numpy/core/_methods.py:205: RuntimeWarning: overflow encountered in multiply\n",
            "  x = um.multiply(x, x, out=x)\n"
          ],
          "name": "stderr"
        },
        {
          "output_type": "execute_result",
          "data": {
            "text/html": [
              "<div>\n",
              "<style scoped>\n",
              "    .dataframe tbody tr th:only-of-type {\n",
              "        vertical-align: middle;\n",
              "    }\n",
              "\n",
              "    .dataframe tbody tr th {\n",
              "        vertical-align: top;\n",
              "    }\n",
              "\n",
              "    .dataframe thead th {\n",
              "        text-align: right;\n",
              "    }\n",
              "</style>\n",
              "<table border=\"1\" class=\"dataframe\">\n",
              "  <thead>\n",
              "    <tr style=\"text-align: right;\">\n",
              "      <th></th>\n",
              "      <th>GarageYrBlt</th>\n",
              "      <th>BsmtFinSF2</th>\n",
              "      <th>GarageArea</th>\n",
              "      <th>OpenPorchSF</th>\n",
              "      <th>LotFrontage</th>\n",
              "      <th>OverallCond</th>\n",
              "      <th>PoolArea</th>\n",
              "      <th>2ndFlrSF</th>\n",
              "      <th>MiscVal</th>\n",
              "      <th>YrSold</th>\n",
              "      <th>FullBath</th>\n",
              "      <th>BsmtHalfBath</th>\n",
              "      <th>MasVnrArea</th>\n",
              "      <th>ScreenPorch</th>\n",
              "      <th>GrLivArea</th>\n",
              "      <th>MoSold</th>\n",
              "      <th>LowQualFinSF</th>\n",
              "      <th>HalfBath</th>\n",
              "      <th>TotRmsAbvGrd</th>\n",
              "      <th>GarageCars</th>\n",
              "      <th>1stFlrSF</th>\n",
              "      <th>KitchenAbvGr</th>\n",
              "      <th>YearRemodAdd</th>\n",
              "      <th>LotArea</th>\n",
              "      <th>3SsnPorch</th>\n",
              "      <th>TotalBsmtSF</th>\n",
              "      <th>EnclosedPorch</th>\n",
              "      <th>YearBuilt</th>\n",
              "      <th>WoodDeckSF</th>\n",
              "      <th>OverallQual</th>\n",
              "      <th>SalePrice</th>\n",
              "      <th>BsmtFullBath</th>\n",
              "      <th>Fireplaces</th>\n",
              "      <th>BsmtUnfSF</th>\n",
              "      <th>BedroomAbvGr</th>\n",
              "      <th>MSSubClass</th>\n",
              "      <th>BsmtFinSF1</th>\n",
              "      <th>SalePrice</th>\n",
              "    </tr>\n",
              "  </thead>\n",
              "  <tbody>\n",
              "    <tr>\n",
              "      <th>0</th>\n",
              "      <td>1.118270</td>\n",
              "      <td>-0.359384</td>\n",
              "      <td>0.383899</td>\n",
              "      <td>0.841820</td>\n",
              "      <td>-0.156500</td>\n",
              "      <td>-0.477387</td>\n",
              "      <td>-0.069409</td>\n",
              "      <td>1.170239</td>\n",
              "      <td>-0.192177</td>\n",
              "      <td>0.140053</td>\n",
              "      <td>0.797246</td>\n",
              "      <td>-0.243940</td>\n",
              "      <td>1.218044</td>\n",
              "      <td>-0.293785</td>\n",
              "      <td>0.528531</td>\n",
              "      <td>-1.694229</td>\n",
              "      <td>-0.134652</td>\n",
              "      <td>1.284128</td>\n",
              "      <td>0.946380</td>\n",
              "      <td>0.273835</td>\n",
              "      <td>-0.799624</td>\n",
              "      <td>-0.172658</td>\n",
              "      <td>0.908055</td>\n",
              "      <td>-0.141171</td>\n",
              "      <td>-0.129279</td>\n",
              "      <td>-0.404029</td>\n",
              "      <td>-0.407595</td>\n",
              "      <td>1.151867</td>\n",
              "      <td>-0.950337</td>\n",
              "      <td>0.667499</td>\n",
              "      <td>0.571155</td>\n",
              "      <td>1.175573</td>\n",
              "      <td>-1.027341</td>\n",
              "      <td>-0.887576</td>\n",
              "      <td>0.170752</td>\n",
              "      <td>0.493460</td>\n",
              "      <td>0.797537</td>\n",
              "      <td>0.571155</td>\n",
              "    </tr>\n",
              "    <tr>\n",
              "      <th>1</th>\n",
              "      <td>-0.277361</td>\n",
              "      <td>-0.359384</td>\n",
              "      <td>-0.004602</td>\n",
              "      <td>-1.071307</td>\n",
              "      <td>0.536617</td>\n",
              "      <td>2.011352</td>\n",
              "      <td>-0.069409</td>\n",
              "      <td>-0.871454</td>\n",
              "      <td>-0.192177</td>\n",
              "      <td>-0.613715</td>\n",
              "      <td>0.797246</td>\n",
              "      <td>4.099375</td>\n",
              "      <td>-0.827466</td>\n",
              "      <td>-0.293785</td>\n",
              "      <td>-0.382755</td>\n",
              "      <td>-0.444891</td>\n",
              "      <td>-0.134652</td>\n",
              "      <td>-0.773692</td>\n",
              "      <td>-0.234627</td>\n",
              "      <td>0.273835</td>\n",
              "      <td>0.429151</td>\n",
              "      <td>-0.172658</td>\n",
              "      <td>-0.621670</td>\n",
              "      <td>0.105609</td>\n",
              "      <td>-0.129279</td>\n",
              "      <td>0.508177</td>\n",
              "      <td>-0.407595</td>\n",
              "      <td>0.006695</td>\n",
              "      <td>1.213714</td>\n",
              "      <td>-0.042192</td>\n",
              "      <td>0.227627</td>\n",
              "      <td>-0.838866</td>\n",
              "      <td>0.784005</td>\n",
              "      <td>-0.434388</td>\n",
              "      <td>0.170752</td>\n",
              "      <td>-1.164269</td>\n",
              "      <td>1.011471</td>\n",
              "      <td>0.227627</td>\n",
              "    </tr>\n",
              "    <tr>\n",
              "      <th>2</th>\n",
              "      <td>0.995940</td>\n",
              "      <td>-0.359384</td>\n",
              "      <td>0.641990</td>\n",
              "      <td>0.668453</td>\n",
              "      <td>-0.011160</td>\n",
              "      <td>-0.477387</td>\n",
              "      <td>-0.069409</td>\n",
              "      <td>1.172896</td>\n",
              "      <td>-0.192177</td>\n",
              "      <td>0.140053</td>\n",
              "      <td>0.797246</td>\n",
              "      <td>-0.243940</td>\n",
              "      <td>1.179948</td>\n",
              "      <td>-0.293785</td>\n",
              "      <td>0.659112</td>\n",
              "      <td>0.987490</td>\n",
              "      <td>-0.134652</td>\n",
              "      <td>1.284128</td>\n",
              "      <td>-0.234627</td>\n",
              "      <td>0.273835</td>\n",
              "      <td>-0.568533</td>\n",
              "      <td>-0.172658</td>\n",
              "      <td>0.835594</td>\n",
              "      <td>0.413721</td>\n",
              "      <td>-0.129279</td>\n",
              "      <td>-0.253787</td>\n",
              "      <td>-0.407595</td>\n",
              "      <td>1.055357</td>\n",
              "      <td>-0.950337</td>\n",
              "      <td>0.667499</td>\n",
              "      <td>0.741869</td>\n",
              "      <td>1.175573</td>\n",
              "      <td>0.784005</td>\n",
              "      <td>-0.048083</td>\n",
              "      <td>0.170752</td>\n",
              "      <td>0.493460</td>\n",
              "      <td>0.571325</td>\n",
              "      <td>0.741869</td>\n",
              "    </tr>\n",
              "    <tr>\n",
              "      <th>3</th>\n",
              "      <td>0.818697</td>\n",
              "      <td>-0.359384</td>\n",
              "      <td>0.786092</td>\n",
              "      <td>0.584540</td>\n",
              "      <td>-0.407405</td>\n",
              "      <td>-0.477387</td>\n",
              "      <td>-0.069409</td>\n",
              "      <td>1.146834</td>\n",
              "      <td>-0.192177</td>\n",
              "      <td>-1.368874</td>\n",
              "      <td>-1.025173</td>\n",
              "      <td>-0.243940</td>\n",
              "      <td>-0.827466</td>\n",
              "      <td>-0.293785</td>\n",
              "      <td>0.540797</td>\n",
              "      <td>-1.694229</td>\n",
              "      <td>-0.134652</td>\n",
              "      <td>-0.773692</td>\n",
              "      <td>0.389921</td>\n",
              "      <td>1.759713</td>\n",
              "      <td>-0.429428</td>\n",
              "      <td>-0.172658</td>\n",
              "      <td>-0.863478</td>\n",
              "      <td>0.095490</td>\n",
              "      <td>-0.129279</td>\n",
              "      <td>-0.644806</td>\n",
              "      <td>2.456640</td>\n",
              "      <td>-1.629540</td>\n",
              "      <td>-0.950337</td>\n",
              "      <td>0.667499</td>\n",
              "      <td>-0.425386</td>\n",
              "      <td>1.175573</td>\n",
              "      <td>0.784005</td>\n",
              "      <td>0.183337</td>\n",
              "      <td>0.170752</td>\n",
              "      <td>0.698191</td>\n",
              "      <td>0.142272</td>\n",
              "      <td>-0.425386</td>\n",
              "    </tr>\n",
              "    <tr>\n",
              "      <th>4</th>\n",
              "      <td>0.936036</td>\n",
              "      <td>-0.359384</td>\n",
              "      <td>1.583257</td>\n",
              "      <td>0.991895</td>\n",
              "      <td>0.708754</td>\n",
              "      <td>-0.477387</td>\n",
              "      <td>-0.069409</td>\n",
              "      <td>1.209630</td>\n",
              "      <td>-0.192177</td>\n",
              "      <td>0.140053</td>\n",
              "      <td>0.797246</td>\n",
              "      <td>-0.243940</td>\n",
              "      <td>1.324337</td>\n",
              "      <td>-0.293785</td>\n",
              "      <td>1.282894</td>\n",
              "      <td>1.963461</td>\n",
              "      <td>-0.134652</td>\n",
              "      <td>1.284128</td>\n",
              "      <td>1.448615</td>\n",
              "      <td>1.759713</td>\n",
              "      <td>0.124698</td>\n",
              "      <td>-0.172658</td>\n",
              "      <td>0.694898</td>\n",
              "      <td>0.877127</td>\n",
              "      <td>-0.129279</td>\n",
              "      <td>0.254387</td>\n",
              "      <td>-0.407595</td>\n",
              "      <td>1.007861</td>\n",
              "      <td>1.079695</td>\n",
              "      <td>1.350924</td>\n",
              "      <td>1.015293</td>\n",
              "      <td>1.175573</td>\n",
              "      <td>0.784005</td>\n",
              "      <td>0.077485</td>\n",
              "      <td>1.382874</td>\n",
              "      <td>0.493460</td>\n",
              "      <td>0.750541</td>\n",
              "      <td>1.015293</td>\n",
              "    </tr>\n",
              "    <tr>\n",
              "      <th>...</th>\n",
              "      <td>...</td>\n",
              "      <td>...</td>\n",
              "      <td>...</td>\n",
              "      <td>...</td>\n",
              "      <td>...</td>\n",
              "      <td>...</td>\n",
              "      <td>...</td>\n",
              "      <td>...</td>\n",
              "      <td>...</td>\n",
              "      <td>...</td>\n",
              "      <td>...</td>\n",
              "      <td>...</td>\n",
              "      <td>...</td>\n",
              "      <td>...</td>\n",
              "      <td>...</td>\n",
              "      <td>...</td>\n",
              "      <td>...</td>\n",
              "      <td>...</td>\n",
              "      <td>...</td>\n",
              "      <td>...</td>\n",
              "      <td>...</td>\n",
              "      <td>...</td>\n",
              "      <td>...</td>\n",
              "      <td>...</td>\n",
              "      <td>...</td>\n",
              "      <td>...</td>\n",
              "      <td>...</td>\n",
              "      <td>...</td>\n",
              "      <td>...</td>\n",
              "      <td>...</td>\n",
              "      <td>...</td>\n",
              "      <td>...</td>\n",
              "      <td>...</td>\n",
              "      <td>...</td>\n",
              "      <td>...</td>\n",
              "      <td>...</td>\n",
              "      <td>...</td>\n",
              "      <td>...</td>\n",
              "    </tr>\n",
              "    <tr>\n",
              "      <th>1455</th>\n",
              "      <td>0.876959</td>\n",
              "      <td>-0.359384</td>\n",
              "      <td>-0.004602</td>\n",
              "      <td>0.645943</td>\n",
              "      <td>-0.305678</td>\n",
              "      <td>-0.477387</td>\n",
              "      <td>-0.069409</td>\n",
              "      <td>1.130187</td>\n",
              "      <td>-0.192177</td>\n",
              "      <td>-0.613715</td>\n",
              "      <td>0.797246</td>\n",
              "      <td>-0.243940</td>\n",
              "      <td>-0.827466</td>\n",
              "      <td>-0.293785</td>\n",
              "      <td>0.415837</td>\n",
              "      <td>0.646025</td>\n",
              "      <td>-0.134652</td>\n",
              "      <td>1.284128</td>\n",
              "      <td>0.389921</td>\n",
              "      <td>0.273835</td>\n",
              "      <td>-0.456061</td>\n",
              "      <td>-0.172658</td>\n",
              "      <td>0.694898</td>\n",
              "      <td>-0.266808</td>\n",
              "      <td>-0.129279</td>\n",
              "      <td>-0.177387</td>\n",
              "      <td>-0.407595</td>\n",
              "      <td>0.960863</td>\n",
              "      <td>-0.950337</td>\n",
              "      <td>-0.042192</td>\n",
              "      <td>0.136679</td>\n",
              "      <td>-0.838866</td>\n",
              "      <td>0.784005</td>\n",
              "      <td>0.909505</td>\n",
              "      <td>0.170752</td>\n",
              "      <td>0.493460</td>\n",
              "      <td>-1.353159</td>\n",
              "      <td>0.136679</td>\n",
              "    </tr>\n",
              "    <tr>\n",
              "      <th>1456</th>\n",
              "      <td>-0.191075</td>\n",
              "      <td>2.782472</td>\n",
              "      <td>0.173581</td>\n",
              "      <td>-1.071307</td>\n",
              "      <td>0.751059</td>\n",
              "      <td>0.440551</td>\n",
              "      <td>-0.069409</td>\n",
              "      <td>-0.871454</td>\n",
              "      <td>-0.192177</td>\n",
              "      <td>1.643336</td>\n",
              "      <td>0.797246</td>\n",
              "      <td>-0.243940</td>\n",
              "      <td>1.114698</td>\n",
              "      <td>-0.293785</td>\n",
              "      <td>1.106859</td>\n",
              "      <td>-1.694229</td>\n",
              "      <td>-0.134652</td>\n",
              "      <td>-0.773692</td>\n",
              "      <td>0.389921</td>\n",
              "      <td>0.273835</td>\n",
              "      <td>1.946238</td>\n",
              "      <td>-0.172658</td>\n",
              "      <td>-0.041619</td>\n",
              "      <td>0.722071</td>\n",
              "      <td>-0.129279</td>\n",
              "      <td>1.092127</td>\n",
              "      <td>-0.407595</td>\n",
              "      <td>0.080711</td>\n",
              "      <td>1.260813</td>\n",
              "      <td>-0.042192</td>\n",
              "      <td>0.588812</td>\n",
              "      <td>1.175573</td>\n",
              "      <td>1.638448</td>\n",
              "      <td>0.282161</td>\n",
              "      <td>0.170752</td>\n",
              "      <td>-1.164269</td>\n",
              "      <td>0.869532</td>\n",
              "      <td>0.588812</td>\n",
              "    </tr>\n",
              "    <tr>\n",
              "      <th>1457</th>\n",
              "      <td>-1.451809</td>\n",
              "      <td>-0.359384</td>\n",
              "      <td>-0.987927</td>\n",
              "      <td>0.834100</td>\n",
              "      <td>-0.107640</td>\n",
              "      <td>2.698415</td>\n",
              "      <td>-0.069409</td>\n",
              "      <td>1.226211</td>\n",
              "      <td>5.203549</td>\n",
              "      <td>1.643336</td>\n",
              "      <td>0.797246</td>\n",
              "      <td>-0.243940</td>\n",
              "      <td>-0.827466</td>\n",
              "      <td>-0.293785</td>\n",
              "      <td>1.471180</td>\n",
              "      <td>-0.444891</td>\n",
              "      <td>-0.134652</td>\n",
              "      <td>-0.773692</td>\n",
              "      <td>1.448615</td>\n",
              "      <td>-1.047926</td>\n",
              "      <td>0.240338</td>\n",
              "      <td>-0.172658</td>\n",
              "      <td>1.134227</td>\n",
              "      <td>-0.010330</td>\n",
              "      <td>-0.129279</td>\n",
              "      <td>0.269755</td>\n",
              "      <td>-0.407595</td>\n",
              "      <td>-1.061347</td>\n",
              "      <td>-0.950337</td>\n",
              "      <td>0.667499</td>\n",
              "      <td>1.170202</td>\n",
              "      <td>-0.838866</td>\n",
              "      <td>1.638448</td>\n",
              "      <td>0.790731</td>\n",
              "      <td>1.382874</td>\n",
              "      <td>0.698191</td>\n",
              "      <td>0.261742</td>\n",
              "      <td>1.170202</td>\n",
              "    </tr>\n",
              "    <tr>\n",
              "      <th>1458</th>\n",
              "      <td>-1.203115</td>\n",
              "      <td>2.783731</td>\n",
              "      <td>-1.048544</td>\n",
              "      <td>-1.071307</td>\n",
              "      <td>-0.011160</td>\n",
              "      <td>0.440551</td>\n",
              "      <td>-0.069409</td>\n",
              "      <td>-0.871454</td>\n",
              "      <td>-0.192177</td>\n",
              "      <td>1.643336</td>\n",
              "      <td>-1.025173</td>\n",
              "      <td>-0.243940</td>\n",
              "      <td>-0.827466</td>\n",
              "      <td>-0.293785</td>\n",
              "      <td>-0.854788</td>\n",
              "      <td>-0.838080</td>\n",
              "      <td>-0.134652</td>\n",
              "      <td>-0.773692</td>\n",
              "      <td>-0.947362</td>\n",
              "      <td>-1.047926</td>\n",
              "      <td>-0.065163</td>\n",
              "      <td>-0.172658</td>\n",
              "      <td>0.429676</td>\n",
              "      <td>0.129088</td>\n",
              "      <td>-0.129279</td>\n",
              "      <td>0.106028</td>\n",
              "      <td>2.454153</td>\n",
              "      <td>-0.823991</td>\n",
              "      <td>1.274883</td>\n",
              "      <td>-0.783171</td>\n",
              "      <td>-0.387136</td>\n",
              "      <td>1.175573</td>\n",
              "      <td>-1.027341</td>\n",
              "      <td>-2.064084</td>\n",
              "      <td>-1.062477</td>\n",
              "      <td>-1.164269</td>\n",
              "      <td>-0.460226</td>\n",
              "      <td>-0.387136</td>\n",
              "    </tr>\n",
              "    <tr>\n",
              "      <th>1459</th>\n",
              "      <td>-0.710852</td>\n",
              "      <td>2.783253</td>\n",
              "      <td>-0.868284</td>\n",
              "      <td>0.892639</td>\n",
              "      <td>0.314447</td>\n",
              "      <td>0.440551</td>\n",
              "      <td>-0.069409</td>\n",
              "      <td>-0.871454</td>\n",
              "      <td>-0.192177</td>\n",
              "      <td>0.140053</td>\n",
              "      <td>-1.025173</td>\n",
              "      <td>-0.243940</td>\n",
              "      <td>-0.827466</td>\n",
              "      <td>-0.293785</td>\n",
              "      <td>-0.397037</td>\n",
              "      <td>-0.068307</td>\n",
              "      <td>-0.134652</td>\n",
              "      <td>1.284128</td>\n",
              "      <td>-0.234627</td>\n",
              "      <td>-1.047926</td>\n",
              "      <td>0.414293</td>\n",
              "      <td>-0.172658</td>\n",
              "      <td>-1.043880</td>\n",
              "      <td>0.172505</td>\n",
              "      <td>-0.129279</td>\n",
              "      <td>0.495315</td>\n",
              "      <td>-0.407595</td>\n",
              "      <td>-0.373250</td>\n",
              "      <td>1.475782</td>\n",
              "      <td>-0.783171</td>\n",
              "      <td>-0.293072</td>\n",
              "      <td>1.175573</td>\n",
              "      <td>-1.027341</td>\n",
              "      <td>-0.945776</td>\n",
              "      <td>0.170752</td>\n",
              "      <td>-1.164269</td>\n",
              "      <td>0.901757</td>\n",
              "      <td>-0.293072</td>\n",
              "    </tr>\n",
              "  </tbody>\n",
              "</table>\n",
              "<p>1460 rows × 38 columns</p>\n",
              "</div>"
            ],
            "text/plain": [
              "      GarageYrBlt  BsmtFinSF2  GarageArea  ...  MSSubClass  BsmtFinSF1  SalePrice\n",
              "0        1.118270   -0.359384    0.383899  ...    0.493460    0.797537   0.571155\n",
              "1       -0.277361   -0.359384   -0.004602  ...   -1.164269    1.011471   0.227627\n",
              "2        0.995940   -0.359384    0.641990  ...    0.493460    0.571325   0.741869\n",
              "3        0.818697   -0.359384    0.786092  ...    0.698191    0.142272  -0.425386\n",
              "4        0.936036   -0.359384    1.583257  ...    0.493460    0.750541   1.015293\n",
              "...           ...         ...         ...  ...         ...         ...        ...\n",
              "1455     0.876959   -0.359384   -0.004602  ...    0.493460   -1.353159   0.136679\n",
              "1456    -0.191075    2.782472    0.173581  ...   -1.164269    0.869532   0.588812\n",
              "1457    -1.451809   -0.359384   -0.987927  ...    0.698191    0.261742   1.170202\n",
              "1458    -1.203115    2.783731   -1.048544  ...   -1.164269   -0.460226  -0.387136\n",
              "1459    -0.710852    2.783253   -0.868284  ...   -1.164269    0.901757  -0.293072\n",
              "\n",
              "[1460 rows x 38 columns]"
            ]
          },
          "metadata": {
            "tags": []
          },
          "execution_count": 100
        }
      ]
    },
    {
      "cell_type": "code",
      "metadata": {
        "colab": {
          "base_uri": "https://localhost:8080/",
          "height": 478
        },
        "id": "yGfVqeJsjgAH",
        "outputId": "99de0b90-5ab8-4bc3-f690-28ba57e6bf33"
      },
      "source": [
        "coef_col = pd.Series(regressor.coef_,index=X.columns)\n",
        "\n",
        "#print(coef_col)\n",
        "sorted_coef = coef_col.sort_values()\n",
        "matplotlib.rcParams['figure.figsize']=(10.0,7.0)\n",
        "sorted_coef.plot(kind=\"barh\")\n",
        "\n",
        "no_of_selected_features = sum(coef_col != 0)\n",
        "no_of_rejected_features = sum(coef_col == 0)\n",
        "total_features = no_of_selected_features + no_of_rejected_features\n",
        "print(\"L1 selected only \",no_of_selected_features,\" features out of \",total_features,\" from the transformed dataset \")\n",
        "plt.title(\"Feature Selection Using L1 Embedder\")"
      ],
      "execution_count": 101,
      "outputs": [
        {
          "output_type": "stream",
          "text": [
            "L1 selected only  11  features out of  36  from the transformed dataset \n"
          ],
          "name": "stdout"
        },
        {
          "output_type": "execute_result",
          "data": {
            "text/plain": [
              "Text(0.5, 1.0, 'Feature Selection Using L1 Embedder')"
            ]
          },
          "metadata": {
            "tags": []
          },
          "execution_count": 101
        },
        {
          "output_type": "display_data",
          "data": {
            "image/png": "[encoded data removed]",
            "text/plain": [
              "<Figure size 720x504 with 1 Axes>"
            ]
          },
          "metadata": {
            "tags": [],
            "needs_background": "light"
          }
        }
      ]
    },
    {
      "cell_type": "markdown",
      "metadata": {
        "id": "MLi0lnheqau4"
      },
      "source": [
        "**TRAINING AND TESTING THE MODEL**"
      ]
    },
    {
      "cell_type": "code",
      "metadata": {
        "id": "qDIWLRo02MHQ"
      },
      "source": [
        "def plot_data(X, y, figsize=None):\n",
        "    if not figsize:\n",
        "        figsize = (8, 6)\n",
        "    plt.figure(figsize=figsize)\n",
        "    plt.plot(X[y==0, 0], X[y==0, 1], 'or', label=0)\n",
        "    plt.plot(X[y==1, 0], X[y==1, 1], 'ob', label=1)\n",
        "    plt.xlim((min(X[:, 0])-0.1, max(X[:, 0])+0.1))\n",
        "    plt.ylim((min(X[:, 1])-0.1, max(X[:, 1])+0.1))\n",
        "    plt.xlabel('x_1')\n",
        "    plt.ylabel('x_2')\n",
        "    plt.legend()"
      ],
      "execution_count": 102,
      "outputs": []
    },
    {
      "cell_type": "code",
      "metadata": {
        "id": "RfYGegeO1_kc"
      },
      "source": [
        "def plot_decision_boundary(func, X, y,epochs, figsize=(9, 6)):\n",
        "\n",
        "    xmin, ymin = X.min(axis=1) - 0.1\n",
        "    xmax, ymax = X.max(axis=1) + 0.1\n",
        "    hticks = np.linspace(xmin, xmax, epochs+1)\n",
        "    vticks = np.linspace(ymin, ymax, epochs+1)\n",
        "    \n",
        "    xx, yy = np.meshgrid(hticks, vticks)\n",
        "    xy = np.c_[xx.ravel(), yy.ravel()]\n",
        "    z = func(xy)\n",
        "    zz = z.reshape(xx.shape)\n",
        "\n",
        "    cm = plt.cm.RdBu\n",
        "    cm_bright = ListedColormap(['#FF0000', '#0000FF'])\n",
        "    \n",
        "    fig, ax = plt.subplots(figsize=figsize)\n",
        "    contour = plt.contourf(xx, yy, zz, cmap=cm, alpha=0.8)\n",
        "    \n",
        "    ax_z = fig.colorbar(contour)\n",
        "    ax_z.set_label(\"$P(y = 1)$\")\n",
        "    ax_z.set_ticks([0, 0.2, 0.5, 0.7, 1])\n",
        "    \n",
        "    plt.scatter(X[:, 0], X[:, 1], c=y, cmap=cm_bright)\n",
        "    plt.xlim(xmin, xmax)\n",
        "    plt.ylim(ymin, ymax)\n",
        "    plt.xlabel(\"x_1\")\n",
        "    plt.ylabel(\"x_2\")\n",
        "\n",
        "    plot_data(X,y)"
      ],
      "execution_count": 103,
      "outputs": []
    },
    {
      "cell_type": "code",
      "metadata": {
        "colab": {
          "base_uri": "https://localhost:8080/",
          "height": 572
        },
        "id": "gS4L1il8uUCN",
        "outputId": "76aca090-6475-4ac8-d542-12df7534bb1e"
      },
      "source": [
        "model=Sequential()\n",
        "model.add(Dense(1, input_shape=(1,), activation='sigmoid'))\n",
        "\n",
        "model.compile('adam', 'binary_crossentropy', metrics=['Precision','Recall'])\n",
        "\n",
        "history = model.fit(X, y, verbose=0, epochs=100)"
      ],
      "execution_count": 104,
      "outputs": [
        {
          "output_type": "error",
          "ename": "ValueError",
          "evalue": "ignored",
          "traceback": [
            "\u001b[0;31m---------------------------------------------------------------------------\u001b[0m",
            "\u001b[0;31mValueError\u001b[0m                                Traceback (most recent call last)",
            "\u001b[0;32m<ipython-input-104-6bfa8324ceea>\u001b[0m in \u001b[0;36m<module>\u001b[0;34m()\u001b[0m\n\u001b[1;32m      4\u001b[0m \u001b[0mmodel\u001b[0m\u001b[0;34m.\u001b[0m\u001b[0mcompile\u001b[0m\u001b[0;34m(\u001b[0m\u001b[0;34m'adam'\u001b[0m\u001b[0;34m,\u001b[0m \u001b[0;34m'binary_crossentropy'\u001b[0m\u001b[0;34m,\u001b[0m \u001b[0mmetrics\u001b[0m\u001b[0;34m=\u001b[0m\u001b[0;34m[\u001b[0m\u001b[0;34m'Precision'\u001b[0m\u001b[0;34m,\u001b[0m\u001b[0;34m'Recall'\u001b[0m\u001b[0;34m]\u001b[0m\u001b[0;34m)\u001b[0m\u001b[0;34m\u001b[0m\u001b[0;34m\u001b[0m\u001b[0m\n\u001b[1;32m      5\u001b[0m \u001b[0;34m\u001b[0m\u001b[0m\n\u001b[0;32m----> 6\u001b[0;31m \u001b[0mhistory\u001b[0m \u001b[0;34m=\u001b[0m \u001b[0mmodel\u001b[0m\u001b[0;34m.\u001b[0m\u001b[0mfit\u001b[0m\u001b[0;34m(\u001b[0m\u001b[0mX\u001b[0m\u001b[0;34m,\u001b[0m \u001b[0my\u001b[0m\u001b[0;34m,\u001b[0m \u001b[0mverbose\u001b[0m\u001b[0;34m=\u001b[0m\u001b[0;36m0\u001b[0m\u001b[0;34m,\u001b[0m \u001b[0mepochs\u001b[0m\u001b[0;34m=\u001b[0m\u001b[0;36m100\u001b[0m\u001b[0;34m)\u001b[0m\u001b[0;34m\u001b[0m\u001b[0;34m\u001b[0m\u001b[0m\n\u001b[0m",
            "\u001b[0;32m/usr/local/lib/python3.7/dist-packages/keras/engine/training.py\u001b[0m in \u001b[0;36mfit\u001b[0;34m(self, x, y, batch_size, epochs, verbose, callbacks, validation_split, validation_data, shuffle, class_weight, sample_weight, initial_epoch, steps_per_epoch, validation_steps, validation_batch_size, validation_freq, max_queue_size, workers, use_multiprocessing)\u001b[0m\n\u001b[1;32m   1156\u001b[0m                 _r=1):\n\u001b[1;32m   1157\u001b[0m               \u001b[0mcallbacks\u001b[0m\u001b[0;34m.\u001b[0m\u001b[0mon_train_batch_begin\u001b[0m\u001b[0;34m(\u001b[0m\u001b[0mstep\u001b[0m\u001b[0;34m)\u001b[0m\u001b[0;34m\u001b[0m\u001b[0;34m\u001b[0m\u001b[0m\n\u001b[0;32m-> 1158\u001b[0;31m               \u001b[0mtmp_logs\u001b[0m \u001b[0;34m=\u001b[0m \u001b[0mself\u001b[0m\u001b[0;34m.\u001b[0m\u001b[0mtrain_function\u001b[0m\u001b[0;34m(\u001b[0m\u001b[0miterator\u001b[0m\u001b[0;34m)\u001b[0m\u001b[0;34m\u001b[0m\u001b[0;34m\u001b[0m\u001b[0m\n\u001b[0m\u001b[1;32m   1159\u001b[0m               \u001b[0;32mif\u001b[0m \u001b[0mdata_handler\u001b[0m\u001b[0;34m.\u001b[0m\u001b[0mshould_sync\u001b[0m\u001b[0;34m:\u001b[0m\u001b[0;34m\u001b[0m\u001b[0;34m\u001b[0m\u001b[0m\n\u001b[1;32m   1160\u001b[0m                 \u001b[0mcontext\u001b[0m\u001b[0;34m.\u001b[0m\u001b[0masync_wait\u001b[0m\u001b[0;34m(\u001b[0m\u001b[0;34m)\u001b[0m\u001b[0;34m\u001b[0m\u001b[0;34m\u001b[0m\u001b[0m\n",
            "\u001b[0;32m/usr/local/lib/python3.7/dist-packages/tensorflow/python/eager/def_function.py\u001b[0m in \u001b[0;36m__call__\u001b[0;34m(self, *args, **kwds)\u001b[0m\n\u001b[1;32m    887\u001b[0m \u001b[0;34m\u001b[0m\u001b[0m\n\u001b[1;32m    888\u001b[0m       \u001b[0;32mwith\u001b[0m \u001b[0mOptionalXlaContext\u001b[0m\u001b[0;34m(\u001b[0m\u001b[0mself\u001b[0m\u001b[0;34m.\u001b[0m\u001b[0m_jit_compile\u001b[0m\u001b[0;34m)\u001b[0m\u001b[0;34m:\u001b[0m\u001b[0;34m\u001b[0m\u001b[0;34m\u001b[0m\u001b[0m\n\u001b[0;32m--> 889\u001b[0;31m         \u001b[0mresult\u001b[0m \u001b[0;34m=\u001b[0m \u001b[0mself\u001b[0m\u001b[0;34m.\u001b[0m\u001b[0m_call\u001b[0m\u001b[0;34m(\u001b[0m\u001b[0;34m*\u001b[0m\u001b[0margs\u001b[0m\u001b[0;34m,\u001b[0m \u001b[0;34m**\u001b[0m\u001b[0mkwds\u001b[0m\u001b[0;34m)\u001b[0m\u001b[0;34m\u001b[0m\u001b[0;34m\u001b[0m\u001b[0m\n\u001b[0m\u001b[1;32m    890\u001b[0m \u001b[0;34m\u001b[0m\u001b[0m\n\u001b[1;32m    891\u001b[0m       \u001b[0mnew_tracing_count\u001b[0m \u001b[0;34m=\u001b[0m \u001b[0mself\u001b[0m\u001b[0;34m.\u001b[0m\u001b[0mexperimental_get_tracing_count\u001b[0m\u001b[0;34m(\u001b[0m\u001b[0;34m)\u001b[0m\u001b[0;34m\u001b[0m\u001b[0;34m\u001b[0m\u001b[0m\n",
            "\u001b[0;32m/usr/local/lib/python3.7/dist-packages/tensorflow/python/eager/def_function.py\u001b[0m in \u001b[0;36m_call\u001b[0;34m(self, *args, **kwds)\u001b[0m\n\u001b[1;32m    931\u001b[0m       \u001b[0;31m# This is the first call of __call__, so we have to initialize.\u001b[0m\u001b[0;34m\u001b[0m\u001b[0;34m\u001b[0m\u001b[0;34m\u001b[0m\u001b[0m\n\u001b[1;32m    932\u001b[0m       \u001b[0minitializers\u001b[0m \u001b[0;34m=\u001b[0m \u001b[0;34m[\u001b[0m\u001b[0;34m]\u001b[0m\u001b[0;34m\u001b[0m\u001b[0;34m\u001b[0m\u001b[0m\n\u001b[0;32m--> 933\u001b[0;31m       \u001b[0mself\u001b[0m\u001b[0;34m.\u001b[0m\u001b[0m_initialize\u001b[0m\u001b[0;34m(\u001b[0m\u001b[0margs\u001b[0m\u001b[0;34m,\u001b[0m \u001b[0mkwds\u001b[0m\u001b[0;34m,\u001b[0m \u001b[0madd_initializers_to\u001b[0m\u001b[0;34m=\u001b[0m\u001b[0minitializers\u001b[0m\u001b[0;34m)\u001b[0m\u001b[0;34m\u001b[0m\u001b[0;34m\u001b[0m\u001b[0m\n\u001b[0m\u001b[1;32m    934\u001b[0m     \u001b[0;32mfinally\u001b[0m\u001b[0;34m:\u001b[0m\u001b[0;34m\u001b[0m\u001b[0;34m\u001b[0m\u001b[0m\n\u001b[1;32m    935\u001b[0m       \u001b[0;31m# At this point we know that the initialization is complete (or less\u001b[0m\u001b[0;34m\u001b[0m\u001b[0;34m\u001b[0m\u001b[0;34m\u001b[0m\u001b[0m\n",
            "\u001b[0;32m/usr/local/lib/python3.7/dist-packages/tensorflow/python/eager/def_function.py\u001b[0m in \u001b[0;36m_initialize\u001b[0;34m(self, args, kwds, add_initializers_to)\u001b[0m\n\u001b[1;32m    762\u001b[0m     self._concrete_stateful_fn = (\n\u001b[1;32m    763\u001b[0m         self._stateful_fn._get_concrete_function_internal_garbage_collected(  # pylint: disable=protected-access\n\u001b[0;32m--> 764\u001b[0;31m             *args, **kwds))\n\u001b[0m\u001b[1;32m    765\u001b[0m \u001b[0;34m\u001b[0m\u001b[0m\n\u001b[1;32m    766\u001b[0m     \u001b[0;32mdef\u001b[0m \u001b[0minvalid_creator_scope\u001b[0m\u001b[0;34m(\u001b[0m\u001b[0;34m*\u001b[0m\u001b[0munused_args\u001b[0m\u001b[0;34m,\u001b[0m \u001b[0;34m**\u001b[0m\u001b[0munused_kwds\u001b[0m\u001b[0;34m)\u001b[0m\u001b[0;34m:\u001b[0m\u001b[0;34m\u001b[0m\u001b[0;34m\u001b[0m\u001b[0m\n",
            "\u001b[0;32m/usr/local/lib/python3.7/dist-packages/tensorflow/python/eager/function.py\u001b[0m in \u001b[0;36m_get_concrete_function_internal_garbage_collected\u001b[0;34m(self, *args, **kwargs)\u001b[0m\n\u001b[1;32m   3048\u001b[0m       \u001b[0margs\u001b[0m\u001b[0;34m,\u001b[0m \u001b[0mkwargs\u001b[0m \u001b[0;34m=\u001b[0m \u001b[0;32mNone\u001b[0m\u001b[0;34m,\u001b[0m \u001b[0;32mNone\u001b[0m\u001b[0;34m\u001b[0m\u001b[0;34m\u001b[0m\u001b[0m\n\u001b[1;32m   3049\u001b[0m     \u001b[0;32mwith\u001b[0m \u001b[0mself\u001b[0m\u001b[0;34m.\u001b[0m\u001b[0m_lock\u001b[0m\u001b[0;34m:\u001b[0m\u001b[0;34m\u001b[0m\u001b[0;34m\u001b[0m\u001b[0m\n\u001b[0;32m-> 3050\u001b[0;31m       \u001b[0mgraph_function\u001b[0m\u001b[0;34m,\u001b[0m \u001b[0m_\u001b[0m \u001b[0;34m=\u001b[0m \u001b[0mself\u001b[0m\u001b[0;34m.\u001b[0m\u001b[0m_maybe_define_function\u001b[0m\u001b[0;34m(\u001b[0m\u001b[0margs\u001b[0m\u001b[0;34m,\u001b[0m \u001b[0mkwargs\u001b[0m\u001b[0;34m)\u001b[0m\u001b[0;34m\u001b[0m\u001b[0;34m\u001b[0m\u001b[0m\n\u001b[0m\u001b[1;32m   3051\u001b[0m     \u001b[0;32mreturn\u001b[0m \u001b[0mgraph_function\u001b[0m\u001b[0;34m\u001b[0m\u001b[0;34m\u001b[0m\u001b[0m\n\u001b[1;32m   3052\u001b[0m \u001b[0;34m\u001b[0m\u001b[0m\n",
            "\u001b[0;32m/usr/local/lib/python3.7/dist-packages/tensorflow/python/eager/function.py\u001b[0m in \u001b[0;36m_maybe_define_function\u001b[0;34m(self, args, kwargs)\u001b[0m\n\u001b[1;32m   3442\u001b[0m \u001b[0;34m\u001b[0m\u001b[0m\n\u001b[1;32m   3443\u001b[0m           \u001b[0mself\u001b[0m\u001b[0;34m.\u001b[0m\u001b[0m_function_cache\u001b[0m\u001b[0;34m.\u001b[0m\u001b[0mmissed\u001b[0m\u001b[0;34m.\u001b[0m\u001b[0madd\u001b[0m\u001b[0;34m(\u001b[0m\u001b[0mcall_context_key\u001b[0m\u001b[0;34m)\u001b[0m\u001b[0;34m\u001b[0m\u001b[0;34m\u001b[0m\u001b[0m\n\u001b[0;32m-> 3444\u001b[0;31m           \u001b[0mgraph_function\u001b[0m \u001b[0;34m=\u001b[0m \u001b[0mself\u001b[0m\u001b[0;34m.\u001b[0m\u001b[0m_create_graph_function\u001b[0m\u001b[0;34m(\u001b[0m\u001b[0margs\u001b[0m\u001b[0;34m,\u001b[0m \u001b[0mkwargs\u001b[0m\u001b[0;34m)\u001b[0m\u001b[0;34m\u001b[0m\u001b[0;34m\u001b[0m\u001b[0m\n\u001b[0m\u001b[1;32m   3445\u001b[0m           \u001b[0mself\u001b[0m\u001b[0;34m.\u001b[0m\u001b[0m_function_cache\u001b[0m\u001b[0;34m.\u001b[0m\u001b[0mprimary\u001b[0m\u001b[0;34m[\u001b[0m\u001b[0mcache_key\u001b[0m\u001b[0;34m]\u001b[0m \u001b[0;34m=\u001b[0m \u001b[0mgraph_function\u001b[0m\u001b[0;34m\u001b[0m\u001b[0;34m\u001b[0m\u001b[0m\n\u001b[1;32m   3446\u001b[0m \u001b[0;34m\u001b[0m\u001b[0m\n",
            "\u001b[0;32m/usr/local/lib/python3.7/dist-packages/tensorflow/python/eager/function.py\u001b[0m in \u001b[0;36m_create_graph_function\u001b[0;34m(self, args, kwargs, override_flat_arg_shapes)\u001b[0m\n\u001b[1;32m   3287\u001b[0m             \u001b[0marg_names\u001b[0m\u001b[0;34m=\u001b[0m\u001b[0marg_names\u001b[0m\u001b[0;34m,\u001b[0m\u001b[0;34m\u001b[0m\u001b[0;34m\u001b[0m\u001b[0m\n\u001b[1;32m   3288\u001b[0m             \u001b[0moverride_flat_arg_shapes\u001b[0m\u001b[0;34m=\u001b[0m\u001b[0moverride_flat_arg_shapes\u001b[0m\u001b[0;34m,\u001b[0m\u001b[0;34m\u001b[0m\u001b[0;34m\u001b[0m\u001b[0m\n\u001b[0;32m-> 3289\u001b[0;31m             capture_by_value=self._capture_by_value),\n\u001b[0m\u001b[1;32m   3290\u001b[0m         \u001b[0mself\u001b[0m\u001b[0;34m.\u001b[0m\u001b[0m_function_attributes\u001b[0m\u001b[0;34m,\u001b[0m\u001b[0;34m\u001b[0m\u001b[0;34m\u001b[0m\u001b[0m\n\u001b[1;32m   3291\u001b[0m         \u001b[0mfunction_spec\u001b[0m\u001b[0;34m=\u001b[0m\u001b[0mself\u001b[0m\u001b[0;34m.\u001b[0m\u001b[0mfunction_spec\u001b[0m\u001b[0;34m,\u001b[0m\u001b[0;34m\u001b[0m\u001b[0;34m\u001b[0m\u001b[0m\n",
            "\u001b[0;32m/usr/local/lib/python3.7/dist-packages/tensorflow/python/framework/func_graph.py\u001b[0m in \u001b[0;36mfunc_graph_from_py_func\u001b[0;34m(name, python_func, args, kwargs, signature, func_graph, autograph, autograph_options, add_control_dependencies, arg_names, op_return_value, collections, capture_by_value, override_flat_arg_shapes)\u001b[0m\n\u001b[1;32m    997\u001b[0m         \u001b[0m_\u001b[0m\u001b[0;34m,\u001b[0m \u001b[0moriginal_func\u001b[0m \u001b[0;34m=\u001b[0m \u001b[0mtf_decorator\u001b[0m\u001b[0;34m.\u001b[0m\u001b[0munwrap\u001b[0m\u001b[0;34m(\u001b[0m\u001b[0mpython_func\u001b[0m\u001b[0;34m)\u001b[0m\u001b[0;34m\u001b[0m\u001b[0;34m\u001b[0m\u001b[0m\n\u001b[1;32m    998\u001b[0m \u001b[0;34m\u001b[0m\u001b[0m\n\u001b[0;32m--> 999\u001b[0;31m       \u001b[0mfunc_outputs\u001b[0m \u001b[0;34m=\u001b[0m \u001b[0mpython_func\u001b[0m\u001b[0;34m(\u001b[0m\u001b[0;34m*\u001b[0m\u001b[0mfunc_args\u001b[0m\u001b[0;34m,\u001b[0m \u001b[0;34m**\u001b[0m\u001b[0mfunc_kwargs\u001b[0m\u001b[0;34m)\u001b[0m\u001b[0;34m\u001b[0m\u001b[0;34m\u001b[0m\u001b[0m\n\u001b[0m\u001b[1;32m   1000\u001b[0m \u001b[0;34m\u001b[0m\u001b[0m\n\u001b[1;32m   1001\u001b[0m       \u001b[0;31m# invariant: `func_outputs` contains only Tensors, CompositeTensors,\u001b[0m\u001b[0;34m\u001b[0m\u001b[0;34m\u001b[0m\u001b[0;34m\u001b[0m\u001b[0m\n",
            "\u001b[0;32m/usr/local/lib/python3.7/dist-packages/tensorflow/python/eager/def_function.py\u001b[0m in \u001b[0;36mwrapped_fn\u001b[0;34m(*args, **kwds)\u001b[0m\n\u001b[1;32m    670\u001b[0m         \u001b[0;31m# the function a weak reference to itself to avoid a reference cycle.\u001b[0m\u001b[0;34m\u001b[0m\u001b[0;34m\u001b[0m\u001b[0;34m\u001b[0m\u001b[0m\n\u001b[1;32m    671\u001b[0m         \u001b[0;32mwith\u001b[0m \u001b[0mOptionalXlaContext\u001b[0m\u001b[0;34m(\u001b[0m\u001b[0mcompile_with_xla\u001b[0m\u001b[0;34m)\u001b[0m\u001b[0;34m:\u001b[0m\u001b[0;34m\u001b[0m\u001b[0;34m\u001b[0m\u001b[0m\n\u001b[0;32m--> 672\u001b[0;31m           \u001b[0mout\u001b[0m \u001b[0;34m=\u001b[0m \u001b[0mweak_wrapped_fn\u001b[0m\u001b[0;34m(\u001b[0m\u001b[0;34m)\u001b[0m\u001b[0;34m.\u001b[0m\u001b[0m__wrapped__\u001b[0m\u001b[0;34m(\u001b[0m\u001b[0;34m*\u001b[0m\u001b[0margs\u001b[0m\u001b[0;34m,\u001b[0m \u001b[0;34m**\u001b[0m\u001b[0mkwds\u001b[0m\u001b[0;34m)\u001b[0m\u001b[0;34m\u001b[0m\u001b[0;34m\u001b[0m\u001b[0m\n\u001b[0m\u001b[1;32m    673\u001b[0m         \u001b[0;32mreturn\u001b[0m \u001b[0mout\u001b[0m\u001b[0;34m\u001b[0m\u001b[0;34m\u001b[0m\u001b[0m\n\u001b[1;32m    674\u001b[0m \u001b[0;34m\u001b[0m\u001b[0m\n",
            "\u001b[0;32m/usr/local/lib/python3.7/dist-packages/tensorflow/python/framework/func_graph.py\u001b[0m in \u001b[0;36mwrapper\u001b[0;34m(*args, **kwargs)\u001b[0m\n\u001b[1;32m    984\u001b[0m           \u001b[0;32mexcept\u001b[0m \u001b[0mException\u001b[0m \u001b[0;32mas\u001b[0m \u001b[0me\u001b[0m\u001b[0;34m:\u001b[0m  \u001b[0;31m# pylint:disable=broad-except\u001b[0m\u001b[0;34m\u001b[0m\u001b[0;34m\u001b[0m\u001b[0m\n\u001b[1;32m    985\u001b[0m             \u001b[0;32mif\u001b[0m \u001b[0mhasattr\u001b[0m\u001b[0;34m(\u001b[0m\u001b[0me\u001b[0m\u001b[0;34m,\u001b[0m \u001b[0;34m\"ag_error_metadata\"\u001b[0m\u001b[0;34m)\u001b[0m\u001b[0;34m:\u001b[0m\u001b[0;34m\u001b[0m\u001b[0;34m\u001b[0m\u001b[0m\n\u001b[0;32m--> 986\u001b[0;31m               \u001b[0;32mraise\u001b[0m \u001b[0me\u001b[0m\u001b[0;34m.\u001b[0m\u001b[0mag_error_metadata\u001b[0m\u001b[0;34m.\u001b[0m\u001b[0mto_exception\u001b[0m\u001b[0;34m(\u001b[0m\u001b[0me\u001b[0m\u001b[0;34m)\u001b[0m\u001b[0;34m\u001b[0m\u001b[0;34m\u001b[0m\u001b[0m\n\u001b[0m\u001b[1;32m    987\u001b[0m             \u001b[0;32melse\u001b[0m\u001b[0;34m:\u001b[0m\u001b[0;34m\u001b[0m\u001b[0;34m\u001b[0m\u001b[0m\n\u001b[1;32m    988\u001b[0m               \u001b[0;32mraise\u001b[0m\u001b[0;34m\u001b[0m\u001b[0;34m\u001b[0m\u001b[0m\n",
            "\u001b[0;31mValueError\u001b[0m: in user code:\n\n    /usr/local/lib/python3.7/dist-packages/keras/engine/training.py:830 train_function  *\n        return step_function(self, iterator)\n    /usr/local/lib/python3.7/dist-packages/keras/engine/training.py:813 run_step  *\n        outputs = model.train_step(data)\n    /usr/local/lib/python3.7/dist-packages/keras/engine/training.py:770 train_step  *\n        y_pred = self(x, training=True)\n    /usr/local/lib/python3.7/dist-packages/keras/engine/base_layer.py:989 __call__  *\n        input_spec.assert_input_compatibility(self.input_spec, inputs, self.name)\n    /usr/local/lib/python3.7/dist-packages/keras/engine/input_spec.py:248 assert_input_compatibility  *\n        raise ValueError(\n\n    ValueError: Input 0 of layer sequential_4 is incompatible with the layer: expected axis -1 of input shape to have value 1 but received input with shape (None, 36)\n"
          ]
        }
      ]
    },
    {
      "cell_type": "code",
      "metadata": {
        "id": "97SiJTV_uV0Z"
      },
      "source": [
        "epochs=200\n",
        "\n",
        "model_2 = Sequential()\n",
        "model_2.add(Dense(4, input_shape=(2,), activation='tanh'))\n",
        "model_2.add(Dense(2, activation='tanh'))\n",
        "model_2.add(Dense(1, activation='sigmoid'))\n",
        "\n",
        "model_2.compile(Adam(learning_rate=0.01), 'binary_crossentropy', metrics=['Precision','Recall'])\n",
        "\n",
        "history = model_2.fit(X, y, verbose=0, epochs=epochs)\n"
      ],
      "execution_count": null,
      "outputs": []
    },
    {
      "cell_type": "code",
      "metadata": {
        "id": "c0jnYSZCrB4v"
      },
      "source": [
        "model_2.summary()"
      ],
      "execution_count": null,
      "outputs": []
    },
    {
      "cell_type": "code",
      "metadata": {
        "id": "YaZxBEOEuYqs"
      },
      "source": [
        "historydf=pd.DataFrame(history.history, index=history.epoch)\n",
        "historydf.head()"
      ],
      "execution_count": null,
      "outputs": []
    },
    {
      "cell_type": "code",
      "metadata": {
        "id": "wVcmPXrR05Sm"
      },
      "source": [
        "historydf['F-Measure']=(2*historydf['precision']*historydf['recall'])/(historydf['precision']+historydf['recall'])"
      ],
      "execution_count": null,
      "outputs": []
    },
    {
      "cell_type": "code",
      "metadata": {
        "id": "J9RLDIYr0_-Y"
      },
      "source": [
        "historydf.head()"
      ],
      "execution_count": null,
      "outputs": []
    },
    {
      "cell_type": "code",
      "metadata": {
        "id": "7r4n68S31CNK"
      },
      "source": [
        "historydf.drop(['precision','recall'],axis=1,inplace=True)"
      ],
      "execution_count": null,
      "outputs": []
    },
    {
      "cell_type": "code",
      "metadata": {
        "id": "XszEEhqU1Eon"
      },
      "source": [
        "final_loss=historydf['loss'].to_numpy()[-1]\n",
        "final_f1=historydf['F-Measure'].to_numpy()[-1]"
      ],
      "execution_count": null,
      "outputs": []
    },
    {
      "cell_type": "code",
      "metadata": {
        "id": "AeYn6wJu1GO8"
      },
      "source": [
        "historydf.plot()\n",
        "plt.title('Final Loss: %.3f, Final F1_score: %.3f' % (final_loss, final_f1))"
      ],
      "execution_count": null,
      "outputs": []
    },
    {
      "cell_type": "code",
      "metadata": {
        "id": "LZVwSKuN1YcN"
      },
      "source": [
        "plt.show()"
      ],
      "execution_count": null,
      "outputs": []
    },
    {
      "cell_type": "code",
      "metadata": {
        "id": "miIO5pz31J8a"
      },
      "source": [
        "plot_decision_boundary(lambda X_test: model_2.predict(X_test), X_test, y_test,epochs)"
      ],
      "execution_count": null,
      "outputs": []
    }
  ]
}